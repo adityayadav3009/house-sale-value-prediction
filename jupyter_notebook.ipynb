{
 "metadata": {
  "language_info": {
   "codemirror_mode": {
    "name": "ipython",
    "version": 3
   },
   "file_extension": ".py",
   "mimetype": "text/x-python",
   "name": "python",
   "nbconvert_exporter": "python",
   "pygments_lexer": "ipython3",
   "version": "3.8.5"
  },
  "orig_nbformat": 4,
  "kernelspec": {
   "name": "python3",
   "display_name": "Python 3.8.5 64-bit ('base': conda)"
  },
  "interpreter": {
   "hash": "19d22de8f4402545c4b2902aef15dfd91ff8172913950284d1ec235ebda7f474"
  }
 },
 "nbformat": 4,
 "nbformat_minor": 2,
 "cells": [
  {
   "cell_type": "code",
   "execution_count": 96,
   "metadata": {},
   "outputs": [],
   "source": [
    "import pandas as pd\n",
    "import numpy as np\n",
    "from sklearn.preprocessing import  LabelEncoder \n",
    "import matplotlib.pyplot as plt \n",
    "from sklearn.ensemble import RandomForestRegressor\n",
    "from sklearn.ensemble import GradientBoostingRegressor\n",
    "from sklearn.svm import SVR\n",
    "from sklearn.model_selection import GridSearchCV\n",
    "pd.set_option(\"display.max_columns\",100)\n",
    "\n",
    "\n",
    "%matplotlib inline"
   ]
  },
  {
   "cell_type": "code",
   "execution_count": 97,
   "metadata": {},
   "outputs": [
    {
     "output_type": "execute_result",
     "data": {
      "text/plain": [
       "   Id  MSSubClass MSZoning  LotFrontage  LotArea Street Alley LotShape  \\\n",
       "0   1          60       RL         65.0     8450   Pave   NaN      Reg   \n",
       "1   2          20       RL         80.0     9600   Pave   NaN      Reg   \n",
       "2   3          60       RL         68.0    11250   Pave   NaN      IR1   \n",
       "3   4          70       RL         60.0     9550   Pave   NaN      IR1   \n",
       "4   5          60       RL         84.0    14260   Pave   NaN      IR1   \n",
       "\n",
       "  LandContour Utilities LotConfig LandSlope Neighborhood Condition1  \\\n",
       "0         Lvl    AllPub    Inside       Gtl      CollgCr       Norm   \n",
       "1         Lvl    AllPub       FR2       Gtl      Veenker      Feedr   \n",
       "2         Lvl    AllPub    Inside       Gtl      CollgCr       Norm   \n",
       "3         Lvl    AllPub    Corner       Gtl      Crawfor       Norm   \n",
       "4         Lvl    AllPub       FR2       Gtl      NoRidge       Norm   \n",
       "\n",
       "  Condition2 BldgType HouseStyle  OverallQual  OverallCond  YearBuilt  \\\n",
       "0       Norm     1Fam     2Story            7            5       2003   \n",
       "1       Norm     1Fam     1Story            6            8       1976   \n",
       "2       Norm     1Fam     2Story            7            5       2001   \n",
       "3       Norm     1Fam     2Story            7            5       1915   \n",
       "4       Norm     1Fam     2Story            8            5       2000   \n",
       "\n",
       "   YearRemodAdd RoofStyle RoofMatl Exterior1st Exterior2nd MasVnrType  \\\n",
       "0          2003     Gable  CompShg     VinylSd     VinylSd    BrkFace   \n",
       "1          1976     Gable  CompShg     MetalSd     MetalSd       None   \n",
       "2          2002     Gable  CompShg     VinylSd     VinylSd    BrkFace   \n",
       "3          1970     Gable  CompShg     Wd Sdng     Wd Shng       None   \n",
       "4          2000     Gable  CompShg     VinylSd     VinylSd    BrkFace   \n",
       "\n",
       "   MasVnrArea ExterQual ExterCond Foundation BsmtQual BsmtCond BsmtExposure  \\\n",
       "0       196.0        Gd        TA      PConc       Gd       TA           No   \n",
       "1         0.0        TA        TA     CBlock       Gd       TA           Gd   \n",
       "2       162.0        Gd        TA      PConc       Gd       TA           Mn   \n",
       "3         0.0        TA        TA     BrkTil       TA       Gd           No   \n",
       "4       350.0        Gd        TA      PConc       Gd       TA           Av   \n",
       "\n",
       "  BsmtFinType1  BsmtFinSF1 BsmtFinType2  BsmtFinSF2  BsmtUnfSF  TotalBsmtSF  \\\n",
       "0          GLQ         706          Unf           0        150          856   \n",
       "1          ALQ         978          Unf           0        284         1262   \n",
       "2          GLQ         486          Unf           0        434          920   \n",
       "3          ALQ         216          Unf           0        540          756   \n",
       "4          GLQ         655          Unf           0        490         1145   \n",
       "\n",
       "  Heating HeatingQC CentralAir Electrical  1stFlrSF  2ndFlrSF  LowQualFinSF  \\\n",
       "0    GasA        Ex          Y      SBrkr       856       854             0   \n",
       "1    GasA        Ex          Y      SBrkr      1262         0             0   \n",
       "2    GasA        Ex          Y      SBrkr       920       866             0   \n",
       "3    GasA        Gd          Y      SBrkr       961       756             0   \n",
       "4    GasA        Ex          Y      SBrkr      1145      1053             0   \n",
       "\n",
       "   GrLivArea  BsmtFullBath  BsmtHalfBath  FullBath  HalfBath  BedroomAbvGr  \\\n",
       "0       1710             1             0         2         1             3   \n",
       "1       1262             0             1         2         0             3   \n",
       "2       1786             1             0         2         1             3   \n",
       "3       1717             1             0         1         0             3   \n",
       "4       2198             1             0         2         1             4   \n",
       "\n",
       "   KitchenAbvGr KitchenQual  TotRmsAbvGrd Functional  Fireplaces FireplaceQu  \\\n",
       "0             1          Gd             8        Typ           0         NaN   \n",
       "1             1          TA             6        Typ           1          TA   \n",
       "2             1          Gd             6        Typ           1          TA   \n",
       "3             1          Gd             7        Typ           1          Gd   \n",
       "4             1          Gd             9        Typ           1          TA   \n",
       "\n",
       "  GarageType  GarageYrBlt GarageFinish  GarageCars  GarageArea GarageQual  \\\n",
       "0     Attchd       2003.0          RFn           2         548         TA   \n",
       "1     Attchd       1976.0          RFn           2         460         TA   \n",
       "2     Attchd       2001.0          RFn           2         608         TA   \n",
       "3     Detchd       1998.0          Unf           3         642         TA   \n",
       "4     Attchd       2000.0          RFn           3         836         TA   \n",
       "\n",
       "  GarageCond PavedDrive  WoodDeckSF  OpenPorchSF  EnclosedPorch  3SsnPorch  \\\n",
       "0         TA          Y           0           61              0          0   \n",
       "1         TA          Y         298            0              0          0   \n",
       "2         TA          Y           0           42              0          0   \n",
       "3         TA          Y           0           35            272          0   \n",
       "4         TA          Y         192           84              0          0   \n",
       "\n",
       "   ScreenPorch  PoolArea PoolQC Fence MiscFeature  MiscVal  MoSold  YrSold  \\\n",
       "0            0         0    NaN   NaN         NaN        0       2    2008   \n",
       "1            0         0    NaN   NaN         NaN        0       5    2007   \n",
       "2            0         0    NaN   NaN         NaN        0       9    2008   \n",
       "3            0         0    NaN   NaN         NaN        0       2    2006   \n",
       "4            0         0    NaN   NaN         NaN        0      12    2008   \n",
       "\n",
       "  SaleType SaleCondition  SalePrice  \n",
       "0       WD        Normal     208500  \n",
       "1       WD        Normal     181500  \n",
       "2       WD        Normal     223500  \n",
       "3       WD       Abnorml     140000  \n",
       "4       WD        Normal     250000  "
      ],
      "text/html": "<div>\n<style scoped>\n    .dataframe tbody tr th:only-of-type {\n        vertical-align: middle;\n    }\n\n    .dataframe tbody tr th {\n        vertical-align: top;\n    }\n\n    .dataframe thead th {\n        text-align: right;\n    }\n</style>\n<table border=\"1\" class=\"dataframe\">\n  <thead>\n    <tr style=\"text-align: right;\">\n      <th></th>\n      <th>Id</th>\n      <th>MSSubClass</th>\n      <th>MSZoning</th>\n      <th>LotFrontage</th>\n      <th>LotArea</th>\n      <th>Street</th>\n      <th>Alley</th>\n      <th>LotShape</th>\n      <th>LandContour</th>\n      <th>Utilities</th>\n      <th>LotConfig</th>\n      <th>LandSlope</th>\n      <th>Neighborhood</th>\n      <th>Condition1</th>\n      <th>Condition2</th>\n      <th>BldgType</th>\n      <th>HouseStyle</th>\n      <th>OverallQual</th>\n      <th>OverallCond</th>\n      <th>YearBuilt</th>\n      <th>YearRemodAdd</th>\n      <th>RoofStyle</th>\n      <th>RoofMatl</th>\n      <th>Exterior1st</th>\n      <th>Exterior2nd</th>\n      <th>MasVnrType</th>\n      <th>MasVnrArea</th>\n      <th>ExterQual</th>\n      <th>ExterCond</th>\n      <th>Foundation</th>\n      <th>BsmtQual</th>\n      <th>BsmtCond</th>\n      <th>BsmtExposure</th>\n      <th>BsmtFinType1</th>\n      <th>BsmtFinSF1</th>\n      <th>BsmtFinType2</th>\n      <th>BsmtFinSF2</th>\n      <th>BsmtUnfSF</th>\n      <th>TotalBsmtSF</th>\n      <th>Heating</th>\n      <th>HeatingQC</th>\n      <th>CentralAir</th>\n      <th>Electrical</th>\n      <th>1stFlrSF</th>\n      <th>2ndFlrSF</th>\n      <th>LowQualFinSF</th>\n      <th>GrLivArea</th>\n      <th>BsmtFullBath</th>\n      <th>BsmtHalfBath</th>\n      <th>FullBath</th>\n      <th>HalfBath</th>\n      <th>BedroomAbvGr</th>\n      <th>KitchenAbvGr</th>\n      <th>KitchenQual</th>\n      <th>TotRmsAbvGrd</th>\n      <th>Functional</th>\n      <th>Fireplaces</th>\n      <th>FireplaceQu</th>\n      <th>GarageType</th>\n      <th>GarageYrBlt</th>\n      <th>GarageFinish</th>\n      <th>GarageCars</th>\n      <th>GarageArea</th>\n      <th>GarageQual</th>\n      <th>GarageCond</th>\n      <th>PavedDrive</th>\n      <th>WoodDeckSF</th>\n      <th>OpenPorchSF</th>\n      <th>EnclosedPorch</th>\n      <th>3SsnPorch</th>\n      <th>ScreenPorch</th>\n      <th>PoolArea</th>\n      <th>PoolQC</th>\n      <th>Fence</th>\n      <th>MiscFeature</th>\n      <th>MiscVal</th>\n      <th>MoSold</th>\n      <th>YrSold</th>\n      <th>SaleType</th>\n      <th>SaleCondition</th>\n      <th>SalePrice</th>\n    </tr>\n  </thead>\n  <tbody>\n    <tr>\n      <th>0</th>\n      <td>1</td>\n      <td>60</td>\n      <td>RL</td>\n      <td>65.0</td>\n      <td>8450</td>\n      <td>Pave</td>\n      <td>NaN</td>\n      <td>Reg</td>\n      <td>Lvl</td>\n      <td>AllPub</td>\n      <td>Inside</td>\n      <td>Gtl</td>\n      <td>CollgCr</td>\n      <td>Norm</td>\n      <td>Norm</td>\n      <td>1Fam</td>\n      <td>2Story</td>\n      <td>7</td>\n      <td>5</td>\n      <td>2003</td>\n      <td>2003</td>\n      <td>Gable</td>\n      <td>CompShg</td>\n      <td>VinylSd</td>\n      <td>VinylSd</td>\n      <td>BrkFace</td>\n      <td>196.0</td>\n      <td>Gd</td>\n      <td>TA</td>\n      <td>PConc</td>\n      <td>Gd</td>\n      <td>TA</td>\n      <td>No</td>\n      <td>GLQ</td>\n      <td>706</td>\n      <td>Unf</td>\n      <td>0</td>\n      <td>150</td>\n      <td>856</td>\n      <td>GasA</td>\n      <td>Ex</td>\n      <td>Y</td>\n      <td>SBrkr</td>\n      <td>856</td>\n      <td>854</td>\n      <td>0</td>\n      <td>1710</td>\n      <td>1</td>\n      <td>0</td>\n      <td>2</td>\n      <td>1</td>\n      <td>3</td>\n      <td>1</td>\n      <td>Gd</td>\n      <td>8</td>\n      <td>Typ</td>\n      <td>0</td>\n      <td>NaN</td>\n      <td>Attchd</td>\n      <td>2003.0</td>\n      <td>RFn</td>\n      <td>2</td>\n      <td>548</td>\n      <td>TA</td>\n      <td>TA</td>\n      <td>Y</td>\n      <td>0</td>\n      <td>61</td>\n      <td>0</td>\n      <td>0</td>\n      <td>0</td>\n      <td>0</td>\n      <td>NaN</td>\n      <td>NaN</td>\n      <td>NaN</td>\n      <td>0</td>\n      <td>2</td>\n      <td>2008</td>\n      <td>WD</td>\n      <td>Normal</td>\n      <td>208500</td>\n    </tr>\n    <tr>\n      <th>1</th>\n      <td>2</td>\n      <td>20</td>\n      <td>RL</td>\n      <td>80.0</td>\n      <td>9600</td>\n      <td>Pave</td>\n      <td>NaN</td>\n      <td>Reg</td>\n      <td>Lvl</td>\n      <td>AllPub</td>\n      <td>FR2</td>\n      <td>Gtl</td>\n      <td>Veenker</td>\n      <td>Feedr</td>\n      <td>Norm</td>\n      <td>1Fam</td>\n      <td>1Story</td>\n      <td>6</td>\n      <td>8</td>\n      <td>1976</td>\n      <td>1976</td>\n      <td>Gable</td>\n      <td>CompShg</td>\n      <td>MetalSd</td>\n      <td>MetalSd</td>\n      <td>None</td>\n      <td>0.0</td>\n      <td>TA</td>\n      <td>TA</td>\n      <td>CBlock</td>\n      <td>Gd</td>\n      <td>TA</td>\n      <td>Gd</td>\n      <td>ALQ</td>\n      <td>978</td>\n      <td>Unf</td>\n      <td>0</td>\n      <td>284</td>\n      <td>1262</td>\n      <td>GasA</td>\n      <td>Ex</td>\n      <td>Y</td>\n      <td>SBrkr</td>\n      <td>1262</td>\n      <td>0</td>\n      <td>0</td>\n      <td>1262</td>\n      <td>0</td>\n      <td>1</td>\n      <td>2</td>\n      <td>0</td>\n      <td>3</td>\n      <td>1</td>\n      <td>TA</td>\n      <td>6</td>\n      <td>Typ</td>\n      <td>1</td>\n      <td>TA</td>\n      <td>Attchd</td>\n      <td>1976.0</td>\n      <td>RFn</td>\n      <td>2</td>\n      <td>460</td>\n      <td>TA</td>\n      <td>TA</td>\n      <td>Y</td>\n      <td>298</td>\n      <td>0</td>\n      <td>0</td>\n      <td>0</td>\n      <td>0</td>\n      <td>0</td>\n      <td>NaN</td>\n      <td>NaN</td>\n      <td>NaN</td>\n      <td>0</td>\n      <td>5</td>\n      <td>2007</td>\n      <td>WD</td>\n      <td>Normal</td>\n      <td>181500</td>\n    </tr>\n    <tr>\n      <th>2</th>\n      <td>3</td>\n      <td>60</td>\n      <td>RL</td>\n      <td>68.0</td>\n      <td>11250</td>\n      <td>Pave</td>\n      <td>NaN</td>\n      <td>IR1</td>\n      <td>Lvl</td>\n      <td>AllPub</td>\n      <td>Inside</td>\n      <td>Gtl</td>\n      <td>CollgCr</td>\n      <td>Norm</td>\n      <td>Norm</td>\n      <td>1Fam</td>\n      <td>2Story</td>\n      <td>7</td>\n      <td>5</td>\n      <td>2001</td>\n      <td>2002</td>\n      <td>Gable</td>\n      <td>CompShg</td>\n      <td>VinylSd</td>\n      <td>VinylSd</td>\n      <td>BrkFace</td>\n      <td>162.0</td>\n      <td>Gd</td>\n      <td>TA</td>\n      <td>PConc</td>\n      <td>Gd</td>\n      <td>TA</td>\n      <td>Mn</td>\n      <td>GLQ</td>\n      <td>486</td>\n      <td>Unf</td>\n      <td>0</td>\n      <td>434</td>\n      <td>920</td>\n      <td>GasA</td>\n      <td>Ex</td>\n      <td>Y</td>\n      <td>SBrkr</td>\n      <td>920</td>\n      <td>866</td>\n      <td>0</td>\n      <td>1786</td>\n      <td>1</td>\n      <td>0</td>\n      <td>2</td>\n      <td>1</td>\n      <td>3</td>\n      <td>1</td>\n      <td>Gd</td>\n      <td>6</td>\n      <td>Typ</td>\n      <td>1</td>\n      <td>TA</td>\n      <td>Attchd</td>\n      <td>2001.0</td>\n      <td>RFn</td>\n      <td>2</td>\n      <td>608</td>\n      <td>TA</td>\n      <td>TA</td>\n      <td>Y</td>\n      <td>0</td>\n      <td>42</td>\n      <td>0</td>\n      <td>0</td>\n      <td>0</td>\n      <td>0</td>\n      <td>NaN</td>\n      <td>NaN</td>\n      <td>NaN</td>\n      <td>0</td>\n      <td>9</td>\n      <td>2008</td>\n      <td>WD</td>\n      <td>Normal</td>\n      <td>223500</td>\n    </tr>\n    <tr>\n      <th>3</th>\n      <td>4</td>\n      <td>70</td>\n      <td>RL</td>\n      <td>60.0</td>\n      <td>9550</td>\n      <td>Pave</td>\n      <td>NaN</td>\n      <td>IR1</td>\n      <td>Lvl</td>\n      <td>AllPub</td>\n      <td>Corner</td>\n      <td>Gtl</td>\n      <td>Crawfor</td>\n      <td>Norm</td>\n      <td>Norm</td>\n      <td>1Fam</td>\n      <td>2Story</td>\n      <td>7</td>\n      <td>5</td>\n      <td>1915</td>\n      <td>1970</td>\n      <td>Gable</td>\n      <td>CompShg</td>\n      <td>Wd Sdng</td>\n      <td>Wd Shng</td>\n      <td>None</td>\n      <td>0.0</td>\n      <td>TA</td>\n      <td>TA</td>\n      <td>BrkTil</td>\n      <td>TA</td>\n      <td>Gd</td>\n      <td>No</td>\n      <td>ALQ</td>\n      <td>216</td>\n      <td>Unf</td>\n      <td>0</td>\n      <td>540</td>\n      <td>756</td>\n      <td>GasA</td>\n      <td>Gd</td>\n      <td>Y</td>\n      <td>SBrkr</td>\n      <td>961</td>\n      <td>756</td>\n      <td>0</td>\n      <td>1717</td>\n      <td>1</td>\n      <td>0</td>\n      <td>1</td>\n      <td>0</td>\n      <td>3</td>\n      <td>1</td>\n      <td>Gd</td>\n      <td>7</td>\n      <td>Typ</td>\n      <td>1</td>\n      <td>Gd</td>\n      <td>Detchd</td>\n      <td>1998.0</td>\n      <td>Unf</td>\n      <td>3</td>\n      <td>642</td>\n      <td>TA</td>\n      <td>TA</td>\n      <td>Y</td>\n      <td>0</td>\n      <td>35</td>\n      <td>272</td>\n      <td>0</td>\n      <td>0</td>\n      <td>0</td>\n      <td>NaN</td>\n      <td>NaN</td>\n      <td>NaN</td>\n      <td>0</td>\n      <td>2</td>\n      <td>2006</td>\n      <td>WD</td>\n      <td>Abnorml</td>\n      <td>140000</td>\n    </tr>\n    <tr>\n      <th>4</th>\n      <td>5</td>\n      <td>60</td>\n      <td>RL</td>\n      <td>84.0</td>\n      <td>14260</td>\n      <td>Pave</td>\n      <td>NaN</td>\n      <td>IR1</td>\n      <td>Lvl</td>\n      <td>AllPub</td>\n      <td>FR2</td>\n      <td>Gtl</td>\n      <td>NoRidge</td>\n      <td>Norm</td>\n      <td>Norm</td>\n      <td>1Fam</td>\n      <td>2Story</td>\n      <td>8</td>\n      <td>5</td>\n      <td>2000</td>\n      <td>2000</td>\n      <td>Gable</td>\n      <td>CompShg</td>\n      <td>VinylSd</td>\n      <td>VinylSd</td>\n      <td>BrkFace</td>\n      <td>350.0</td>\n      <td>Gd</td>\n      <td>TA</td>\n      <td>PConc</td>\n      <td>Gd</td>\n      <td>TA</td>\n      <td>Av</td>\n      <td>GLQ</td>\n      <td>655</td>\n      <td>Unf</td>\n      <td>0</td>\n      <td>490</td>\n      <td>1145</td>\n      <td>GasA</td>\n      <td>Ex</td>\n      <td>Y</td>\n      <td>SBrkr</td>\n      <td>1145</td>\n      <td>1053</td>\n      <td>0</td>\n      <td>2198</td>\n      <td>1</td>\n      <td>0</td>\n      <td>2</td>\n      <td>1</td>\n      <td>4</td>\n      <td>1</td>\n      <td>Gd</td>\n      <td>9</td>\n      <td>Typ</td>\n      <td>1</td>\n      <td>TA</td>\n      <td>Attchd</td>\n      <td>2000.0</td>\n      <td>RFn</td>\n      <td>3</td>\n      <td>836</td>\n      <td>TA</td>\n      <td>TA</td>\n      <td>Y</td>\n      <td>192</td>\n      <td>84</td>\n      <td>0</td>\n      <td>0</td>\n      <td>0</td>\n      <td>0</td>\n      <td>NaN</td>\n      <td>NaN</td>\n      <td>NaN</td>\n      <td>0</td>\n      <td>12</td>\n      <td>2008</td>\n      <td>WD</td>\n      <td>Normal</td>\n      <td>250000</td>\n    </tr>\n  </tbody>\n</table>\n</div>"
     },
     "metadata": {},
     "execution_count": 97
    }
   ],
   "source": [
    "train_df = pd.read_csv(\"train.csv\")\n",
    "train_df.head()"
   ]
  },
  {
   "cell_type": "code",
   "execution_count": 98,
   "metadata": {},
   "outputs": [],
   "source": [
    "test_df =pd.read_csv(\"test.csv\")\n"
   ]
  },
  {
   "cell_type": "code",
   "execution_count": 99,
   "metadata": {},
   "outputs": [
    {
     "output_type": "stream",
     "name": "stdout",
     "text": [
      "<class 'pandas.core.frame.DataFrame'>\nRangeIndex: 1460 entries, 0 to 1459\nData columns (total 81 columns):\n #   Column         Non-Null Count  Dtype  \n---  ------         --------------  -----  \n 0   Id             1460 non-null   int64  \n 1   MSSubClass     1460 non-null   int64  \n 2   MSZoning       1460 non-null   object \n 3   LotFrontage    1201 non-null   float64\n 4   LotArea        1460 non-null   int64  \n 5   Street         1460 non-null   object \n 6   Alley          91 non-null     object \n 7   LotShape       1460 non-null   object \n 8   LandContour    1460 non-null   object \n 9   Utilities      1460 non-null   object \n 10  LotConfig      1460 non-null   object \n 11  LandSlope      1460 non-null   object \n 12  Neighborhood   1460 non-null   object \n 13  Condition1     1460 non-null   object \n 14  Condition2     1460 non-null   object \n 15  BldgType       1460 non-null   object \n 16  HouseStyle     1460 non-null   object \n 17  OverallQual    1460 non-null   int64  \n 18  OverallCond    1460 non-null   int64  \n 19  YearBuilt      1460 non-null   int64  \n 20  YearRemodAdd   1460 non-null   int64  \n 21  RoofStyle      1460 non-null   object \n 22  RoofMatl       1460 non-null   object \n 23  Exterior1st    1460 non-null   object \n 24  Exterior2nd    1460 non-null   object \n 25  MasVnrType     1452 non-null   object \n 26  MasVnrArea     1452 non-null   float64\n 27  ExterQual      1460 non-null   object \n 28  ExterCond      1460 non-null   object \n 29  Foundation     1460 non-null   object \n 30  BsmtQual       1423 non-null   object \n 31  BsmtCond       1423 non-null   object \n 32  BsmtExposure   1422 non-null   object \n 33  BsmtFinType1   1423 non-null   object \n 34  BsmtFinSF1     1460 non-null   int64  \n 35  BsmtFinType2   1422 non-null   object \n 36  BsmtFinSF2     1460 non-null   int64  \n 37  BsmtUnfSF      1460 non-null   int64  \n 38  TotalBsmtSF    1460 non-null   int64  \n 39  Heating        1460 non-null   object \n 40  HeatingQC      1460 non-null   object \n 41  CentralAir     1460 non-null   object \n 42  Electrical     1459 non-null   object \n 43  1stFlrSF       1460 non-null   int64  \n 44  2ndFlrSF       1460 non-null   int64  \n 45  LowQualFinSF   1460 non-null   int64  \n 46  GrLivArea      1460 non-null   int64  \n 47  BsmtFullBath   1460 non-null   int64  \n 48  BsmtHalfBath   1460 non-null   int64  \n 49  FullBath       1460 non-null   int64  \n 50  HalfBath       1460 non-null   int64  \n 51  BedroomAbvGr   1460 non-null   int64  \n 52  KitchenAbvGr   1460 non-null   int64  \n 53  KitchenQual    1460 non-null   object \n 54  TotRmsAbvGrd   1460 non-null   int64  \n 55  Functional     1460 non-null   object \n 56  Fireplaces     1460 non-null   int64  \n 57  FireplaceQu    770 non-null    object \n 58  GarageType     1379 non-null   object \n 59  GarageYrBlt    1379 non-null   float64\n 60  GarageFinish   1379 non-null   object \n 61  GarageCars     1460 non-null   int64  \n 62  GarageArea     1460 non-null   int64  \n 63  GarageQual     1379 non-null   object \n 64  GarageCond     1379 non-null   object \n 65  PavedDrive     1460 non-null   object \n 66  WoodDeckSF     1460 non-null   int64  \n 67  OpenPorchSF    1460 non-null   int64  \n 68  EnclosedPorch  1460 non-null   int64  \n 69  3SsnPorch      1460 non-null   int64  \n 70  ScreenPorch    1460 non-null   int64  \n 71  PoolArea       1460 non-null   int64  \n 72  PoolQC         7 non-null      object \n 73  Fence          281 non-null    object \n 74  MiscFeature    54 non-null     object \n 75  MiscVal        1460 non-null   int64  \n 76  MoSold         1460 non-null   int64  \n 77  YrSold         1460 non-null   int64  \n 78  SaleType       1460 non-null   object \n 79  SaleCondition  1460 non-null   object \n 80  SalePrice      1460 non-null   int64  \ndtypes: float64(3), int64(35), object(43)\nmemory usage: 924.0+ KB\n"
     ]
    }
   ],
   "source": [
    "train_df.info()"
   ]
  },
  {
   "cell_type": "code",
   "execution_count": 100,
   "metadata": {},
   "outputs": [
    {
     "output_type": "stream",
     "name": "stdout",
     "text": [
      "['Id', 'MSSubClass', 'LotFrontage', 'LotArea', 'OverallQual', 'OverallCond', 'YearBuilt', 'YearRemodAdd', 'MasVnrArea', 'BsmtFinSF1', 'BsmtFinSF2', 'BsmtUnfSF', 'TotalBsmtSF', '1stFlrSF', '2ndFlrSF', 'LowQualFinSF', 'GrLivArea', 'BsmtFullBath', 'BsmtHalfBath', 'FullBath', 'HalfBath', 'BedroomAbvGr', 'KitchenAbvGr', 'TotRmsAbvGrd', 'Fireplaces', 'GarageYrBlt', 'GarageCars', 'GarageArea', 'WoodDeckSF', 'OpenPorchSF', 'EnclosedPorch', '3SsnPorch', 'ScreenPorch', 'PoolArea', 'MiscVal', 'MoSold', 'YrSold', 'SalePrice'] \n\n['MSZoning', 'Street', 'Alley', 'LotShape', 'LandContour', 'Utilities', 'LotConfig', 'LandSlope', 'Neighborhood', 'Condition1', 'Condition2', 'BldgType', 'HouseStyle', 'RoofStyle', 'RoofMatl', 'Exterior1st', 'Exterior2nd', 'MasVnrType', 'ExterQual', 'ExterCond', 'Foundation', 'BsmtQual', 'BsmtCond', 'BsmtExposure', 'BsmtFinType1', 'BsmtFinType2', 'Heating', 'HeatingQC', 'CentralAir', 'Electrical', 'KitchenQual', 'Functional', 'FireplaceQu', 'GarageType', 'GarageFinish', 'GarageQual', 'GarageCond', 'PavedDrive', 'PoolQC', 'Fence', 'MiscFeature', 'SaleType', 'SaleCondition']\n"
     ]
    }
   ],
   "source": [
    "clm_int =[]\n",
    "clm_obj =[]\n",
    "for clm in train_df.columns :\n",
    "    if(train_df[clm].dtype == \"int64\" or train_df[clm].dtype == \"float64\") :\n",
    "        clm_int.append(clm)\n",
    "        \n",
    "    else :\n",
    "        clm_obj.append(clm)\n",
    "    \n",
    "print(clm_int,\"\\n\")\n",
    "print(clm_obj)"
   ]
  },
  {
   "source": [
    "## DEAL WITH NAN VALUES"
   ],
   "cell_type": "markdown",
   "metadata": {}
  },
  {
   "cell_type": "code",
   "execution_count": 101,
   "metadata": {},
   "outputs": [
    {
     "output_type": "stream",
     "name": "stdout",
     "text": [
      "Number of columns having nan values :  19 \n\ncolumn & NaN values are\n"
     ]
    },
    {
     "output_type": "execute_result",
     "data": {
      "text/plain": [
       "{'LotFrontage': 259,\n",
       " 'Alley': 1369,\n",
       " 'MasVnrType': 8,\n",
       " 'MasVnrArea': 8,\n",
       " 'BsmtQual': 37,\n",
       " 'BsmtCond': 37,\n",
       " 'BsmtExposure': 38,\n",
       " 'BsmtFinType1': 37,\n",
       " 'BsmtFinType2': 38,\n",
       " 'Electrical': 1,\n",
       " 'FireplaceQu': 690,\n",
       " 'GarageType': 81,\n",
       " 'GarageYrBlt': 81,\n",
       " 'GarageFinish': 81,\n",
       " 'GarageQual': 81,\n",
       " 'GarageCond': 81,\n",
       " 'PoolQC': 1453,\n",
       " 'Fence': 1179,\n",
       " 'MiscFeature': 1406}"
      ]
     },
     "metadata": {},
     "execution_count": 101
    }
   ],
   "source": [
    "train_df[\"BsmtCond\"].isna().sum()\n",
    "dict_nan ={} \n",
    "for clm in train_df.columns :\n",
    "    if train_df[clm].isna().sum() != 0 :\n",
    "        dict_nan[clm] =  train_df[clm].isna().sum()\n",
    "\n",
    "print(\"Number of columns having nan values : \",len(dict_nan),\"\\n\\ncolumn & NaN values are\")\n",
    "dict_nan"
   ]
  },
  {
   "cell_type": "code",
   "execution_count": 102,
   "metadata": {},
   "outputs": [
    {
     "output_type": "stream",
     "name": "stdout",
     "text": [
      "int clm to be dropped :  ['LotFrontage'] \n\nobj clm to be dropped :  ['Alley', 'FireplaceQu', 'PoolQC', 'Fence', 'MiscFeature'] \n\n"
     ]
    }
   ],
   "source": [
    "col_obj_drop =[]\n",
    "col_int_drop =[]\n",
    "\n",
    "for col in clm_int :\n",
    "    if train_df[col].isna().sum() <=100 :\n",
    "        train_df[col] =train_df[col].fillna(train_df[col].median())\n",
    "    else :\n",
    "        col_int_drop.append(col)\n",
    "\n",
    "for col in clm_obj :\n",
    "    if train_df[col].isna().sum() <=100 :\n",
    "        train_df[col] =train_df[col].fillna(train_df[col].mode())\n",
    "    else :\n",
    "        col_obj_drop.append(col)\n",
    "print(\"int clm to be dropped : \" ,col_int_drop,\"\\n\")\n",
    "print(\"obj clm to be dropped : \" ,col_obj_drop,\"\\n\")\n"
   ]
  },
  {
   "cell_type": "code",
   "execution_count": 103,
   "metadata": {},
   "outputs": [
    {
     "output_type": "execute_result",
     "data": {
      "text/plain": [
       "      MSSubClass MSZoning  LotArea Street LotShape LandContour Utilities  \\\n",
       "0             60       RL     8450   Pave      Reg         Lvl    AllPub   \n",
       "1             20       RL     9600   Pave      Reg         Lvl    AllPub   \n",
       "2             60       RL    11250   Pave      IR1         Lvl    AllPub   \n",
       "3             70       RL     9550   Pave      IR1         Lvl    AllPub   \n",
       "4             60       RL    14260   Pave      IR1         Lvl    AllPub   \n",
       "...          ...      ...      ...    ...      ...         ...       ...   \n",
       "1455          60       RL     7917   Pave      Reg         Lvl    AllPub   \n",
       "1456          20       RL    13175   Pave      Reg         Lvl    AllPub   \n",
       "1457          70       RL     9042   Pave      Reg         Lvl    AllPub   \n",
       "1458          20       RL     9717   Pave      Reg         Lvl    AllPub   \n",
       "1459          20       RL     9937   Pave      Reg         Lvl    AllPub   \n",
       "\n",
       "     LotConfig LandSlope Neighborhood Condition1 Condition2 BldgType  \\\n",
       "0       Inside       Gtl      CollgCr       Norm       Norm     1Fam   \n",
       "1          FR2       Gtl      Veenker      Feedr       Norm     1Fam   \n",
       "2       Inside       Gtl      CollgCr       Norm       Norm     1Fam   \n",
       "3       Corner       Gtl      Crawfor       Norm       Norm     1Fam   \n",
       "4          FR2       Gtl      NoRidge       Norm       Norm     1Fam   \n",
       "...        ...       ...          ...        ...        ...      ...   \n",
       "1455    Inside       Gtl      Gilbert       Norm       Norm     1Fam   \n",
       "1456    Inside       Gtl       NWAmes       Norm       Norm     1Fam   \n",
       "1457    Inside       Gtl      Crawfor       Norm       Norm     1Fam   \n",
       "1458    Inside       Gtl        NAmes       Norm       Norm     1Fam   \n",
       "1459    Inside       Gtl      Edwards       Norm       Norm     1Fam   \n",
       "\n",
       "     HouseStyle  OverallQual  OverallCond  YearBuilt  YearRemodAdd RoofStyle  \\\n",
       "0        2Story            7            5       2003          2003     Gable   \n",
       "1        1Story            6            8       1976          1976     Gable   \n",
       "2        2Story            7            5       2001          2002     Gable   \n",
       "3        2Story            7            5       1915          1970     Gable   \n",
       "4        2Story            8            5       2000          2000     Gable   \n",
       "...         ...          ...          ...        ...           ...       ...   \n",
       "1455     2Story            6            5       1999          2000     Gable   \n",
       "1456     1Story            6            6       1978          1988     Gable   \n",
       "1457     2Story            7            9       1941          2006     Gable   \n",
       "1458     1Story            5            6       1950          1996       Hip   \n",
       "1459     1Story            5            6       1965          1965     Gable   \n",
       "\n",
       "     RoofMatl Exterior1st Exterior2nd MasVnrType  MasVnrArea ExterQual  \\\n",
       "0     CompShg     VinylSd     VinylSd    BrkFace       196.0        Gd   \n",
       "1     CompShg     MetalSd     MetalSd       None         0.0        TA   \n",
       "2     CompShg     VinylSd     VinylSd    BrkFace       162.0        Gd   \n",
       "3     CompShg     Wd Sdng     Wd Shng       None         0.0        TA   \n",
       "4     CompShg     VinylSd     VinylSd    BrkFace       350.0        Gd   \n",
       "...       ...         ...         ...        ...         ...       ...   \n",
       "1455  CompShg     VinylSd     VinylSd       None         0.0        TA   \n",
       "1456  CompShg     Plywood     Plywood      Stone       119.0        TA   \n",
       "1457  CompShg     CemntBd     CmentBd       None         0.0        Ex   \n",
       "1458  CompShg     MetalSd     MetalSd       None         0.0        TA   \n",
       "1459  CompShg     HdBoard     HdBoard       None         0.0        Gd   \n",
       "\n",
       "     ExterCond Foundation BsmtQual BsmtCond BsmtExposure BsmtFinType1  \\\n",
       "0           TA      PConc       Gd       TA           No          GLQ   \n",
       "1           TA     CBlock       Gd       TA           Gd          ALQ   \n",
       "2           TA      PConc       Gd       TA           Mn          GLQ   \n",
       "3           TA     BrkTil       TA       Gd           No          ALQ   \n",
       "4           TA      PConc       Gd       TA           Av          GLQ   \n",
       "...        ...        ...      ...      ...          ...          ...   \n",
       "1455        TA      PConc       Gd       TA           No          Unf   \n",
       "1456        TA     CBlock       Gd       TA           No          ALQ   \n",
       "1457        Gd      Stone       TA       Gd           No          GLQ   \n",
       "1458        TA     CBlock       TA       TA           Mn          GLQ   \n",
       "1459        TA     CBlock       TA       TA           No          BLQ   \n",
       "\n",
       "      BsmtFinSF1 BsmtFinType2  BsmtFinSF2  BsmtUnfSF  TotalBsmtSF Heating  \\\n",
       "0            706          Unf           0        150          856    GasA   \n",
       "1            978          Unf           0        284         1262    GasA   \n",
       "2            486          Unf           0        434          920    GasA   \n",
       "3            216          Unf           0        540          756    GasA   \n",
       "4            655          Unf           0        490         1145    GasA   \n",
       "...          ...          ...         ...        ...          ...     ...   \n",
       "1455           0          Unf           0        953          953    GasA   \n",
       "1456         790          Rec         163        589         1542    GasA   \n",
       "1457         275          Unf           0        877         1152    GasA   \n",
       "1458          49          Rec        1029          0         1078    GasA   \n",
       "1459         830          LwQ         290        136         1256    GasA   \n",
       "\n",
       "     HeatingQC CentralAir Electrical  1stFlrSF  2ndFlrSF  LowQualFinSF  \\\n",
       "0           Ex          Y      SBrkr       856       854             0   \n",
       "1           Ex          Y      SBrkr      1262         0             0   \n",
       "2           Ex          Y      SBrkr       920       866             0   \n",
       "3           Gd          Y      SBrkr       961       756             0   \n",
       "4           Ex          Y      SBrkr      1145      1053             0   \n",
       "...        ...        ...        ...       ...       ...           ...   \n",
       "1455        Ex          Y      SBrkr       953       694             0   \n",
       "1456        TA          Y      SBrkr      2073         0             0   \n",
       "1457        Ex          Y      SBrkr      1188      1152             0   \n",
       "1458        Gd          Y      FuseA      1078         0             0   \n",
       "1459        Gd          Y      SBrkr      1256         0             0   \n",
       "\n",
       "      GrLivArea  BsmtFullBath  BsmtHalfBath  FullBath  HalfBath  BedroomAbvGr  \\\n",
       "0          1710             1             0         2         1             3   \n",
       "1          1262             0             1         2         0             3   \n",
       "2          1786             1             0         2         1             3   \n",
       "3          1717             1             0         1         0             3   \n",
       "4          2198             1             0         2         1             4   \n",
       "...         ...           ...           ...       ...       ...           ...   \n",
       "1455       1647             0             0         2         1             3   \n",
       "1456       2073             1             0         2         0             3   \n",
       "1457       2340             0             0         2         0             4   \n",
       "1458       1078             1             0         1         0             2   \n",
       "1459       1256             1             0         1         1             3   \n",
       "\n",
       "      KitchenAbvGr KitchenQual  TotRmsAbvGrd Functional  Fireplaces  \\\n",
       "0                1          Gd             8        Typ           0   \n",
       "1                1          TA             6        Typ           1   \n",
       "2                1          Gd             6        Typ           1   \n",
       "3                1          Gd             7        Typ           1   \n",
       "4                1          Gd             9        Typ           1   \n",
       "...            ...         ...           ...        ...         ...   \n",
       "1455             1          TA             7        Typ           1   \n",
       "1456             1          TA             7       Min1           2   \n",
       "1457             1          Gd             9        Typ           2   \n",
       "1458             1          Gd             5        Typ           0   \n",
       "1459             1          TA             6        Typ           0   \n",
       "\n",
       "     GarageType  GarageYrBlt GarageFinish  GarageCars  GarageArea GarageQual  \\\n",
       "0        Attchd       2003.0          RFn           2         548         TA   \n",
       "1        Attchd       1976.0          RFn           2         460         TA   \n",
       "2        Attchd       2001.0          RFn           2         608         TA   \n",
       "3        Detchd       1998.0          Unf           3         642         TA   \n",
       "4        Attchd       2000.0          RFn           3         836         TA   \n",
       "...         ...          ...          ...         ...         ...        ...   \n",
       "1455     Attchd       1999.0          RFn           2         460         TA   \n",
       "1456     Attchd       1978.0          Unf           2         500         TA   \n",
       "1457     Attchd       1941.0          RFn           1         252         TA   \n",
       "1458     Attchd       1950.0          Unf           1         240         TA   \n",
       "1459     Attchd       1965.0          Fin           1         276         TA   \n",
       "\n",
       "     GarageCond PavedDrive  WoodDeckSF  OpenPorchSF  EnclosedPorch  3SsnPorch  \\\n",
       "0            TA          Y           0           61              0          0   \n",
       "1            TA          Y         298            0              0          0   \n",
       "2            TA          Y           0           42              0          0   \n",
       "3            TA          Y           0           35            272          0   \n",
       "4            TA          Y         192           84              0          0   \n",
       "...         ...        ...         ...          ...            ...        ...   \n",
       "1455         TA          Y           0           40              0          0   \n",
       "1456         TA          Y         349            0              0          0   \n",
       "1457         TA          Y           0           60              0          0   \n",
       "1458         TA          Y         366            0            112          0   \n",
       "1459         TA          Y         736           68              0          0   \n",
       "\n",
       "      ScreenPorch  PoolArea  MiscVal  MoSold  YrSold SaleType SaleCondition  \\\n",
       "0               0         0        0       2    2008       WD        Normal   \n",
       "1               0         0        0       5    2007       WD        Normal   \n",
       "2               0         0        0       9    2008       WD        Normal   \n",
       "3               0         0        0       2    2006       WD       Abnorml   \n",
       "4               0         0        0      12    2008       WD        Normal   \n",
       "...           ...       ...      ...     ...     ...      ...           ...   \n",
       "1455            0         0        0       8    2007       WD        Normal   \n",
       "1456            0         0        0       2    2010       WD        Normal   \n",
       "1457            0         0     2500       5    2010       WD        Normal   \n",
       "1458            0         0        0       4    2010       WD        Normal   \n",
       "1459            0         0        0       6    2008       WD        Normal   \n",
       "\n",
       "      SalePrice  \n",
       "0        208500  \n",
       "1        181500  \n",
       "2        223500  \n",
       "3        140000  \n",
       "4        250000  \n",
       "...         ...  \n",
       "1455     175000  \n",
       "1456     210000  \n",
       "1457     266500  \n",
       "1458     142125  \n",
       "1459     147500  \n",
       "\n",
       "[1460 rows x 74 columns]"
      ],
      "text/html": "<div>\n<style scoped>\n    .dataframe tbody tr th:only-of-type {\n        vertical-align: middle;\n    }\n\n    .dataframe tbody tr th {\n        vertical-align: top;\n    }\n\n    .dataframe thead th {\n        text-align: right;\n    }\n</style>\n<table border=\"1\" class=\"dataframe\">\n  <thead>\n    <tr style=\"text-align: right;\">\n      <th></th>\n      <th>MSSubClass</th>\n      <th>MSZoning</th>\n      <th>LotArea</th>\n      <th>Street</th>\n      <th>LotShape</th>\n      <th>LandContour</th>\n      <th>Utilities</th>\n      <th>LotConfig</th>\n      <th>LandSlope</th>\n      <th>Neighborhood</th>\n      <th>Condition1</th>\n      <th>Condition2</th>\n      <th>BldgType</th>\n      <th>HouseStyle</th>\n      <th>OverallQual</th>\n      <th>OverallCond</th>\n      <th>YearBuilt</th>\n      <th>YearRemodAdd</th>\n      <th>RoofStyle</th>\n      <th>RoofMatl</th>\n      <th>Exterior1st</th>\n      <th>Exterior2nd</th>\n      <th>MasVnrType</th>\n      <th>MasVnrArea</th>\n      <th>ExterQual</th>\n      <th>ExterCond</th>\n      <th>Foundation</th>\n      <th>BsmtQual</th>\n      <th>BsmtCond</th>\n      <th>BsmtExposure</th>\n      <th>BsmtFinType1</th>\n      <th>BsmtFinSF1</th>\n      <th>BsmtFinType2</th>\n      <th>BsmtFinSF2</th>\n      <th>BsmtUnfSF</th>\n      <th>TotalBsmtSF</th>\n      <th>Heating</th>\n      <th>HeatingQC</th>\n      <th>CentralAir</th>\n      <th>Electrical</th>\n      <th>1stFlrSF</th>\n      <th>2ndFlrSF</th>\n      <th>LowQualFinSF</th>\n      <th>GrLivArea</th>\n      <th>BsmtFullBath</th>\n      <th>BsmtHalfBath</th>\n      <th>FullBath</th>\n      <th>HalfBath</th>\n      <th>BedroomAbvGr</th>\n      <th>KitchenAbvGr</th>\n      <th>KitchenQual</th>\n      <th>TotRmsAbvGrd</th>\n      <th>Functional</th>\n      <th>Fireplaces</th>\n      <th>GarageType</th>\n      <th>GarageYrBlt</th>\n      <th>GarageFinish</th>\n      <th>GarageCars</th>\n      <th>GarageArea</th>\n      <th>GarageQual</th>\n      <th>GarageCond</th>\n      <th>PavedDrive</th>\n      <th>WoodDeckSF</th>\n      <th>OpenPorchSF</th>\n      <th>EnclosedPorch</th>\n      <th>3SsnPorch</th>\n      <th>ScreenPorch</th>\n      <th>PoolArea</th>\n      <th>MiscVal</th>\n      <th>MoSold</th>\n      <th>YrSold</th>\n      <th>SaleType</th>\n      <th>SaleCondition</th>\n      <th>SalePrice</th>\n    </tr>\n  </thead>\n  <tbody>\n    <tr>\n      <th>0</th>\n      <td>60</td>\n      <td>RL</td>\n      <td>8450</td>\n      <td>Pave</td>\n      <td>Reg</td>\n      <td>Lvl</td>\n      <td>AllPub</td>\n      <td>Inside</td>\n      <td>Gtl</td>\n      <td>CollgCr</td>\n      <td>Norm</td>\n      <td>Norm</td>\n      <td>1Fam</td>\n      <td>2Story</td>\n      <td>7</td>\n      <td>5</td>\n      <td>2003</td>\n      <td>2003</td>\n      <td>Gable</td>\n      <td>CompShg</td>\n      <td>VinylSd</td>\n      <td>VinylSd</td>\n      <td>BrkFace</td>\n      <td>196.0</td>\n      <td>Gd</td>\n      <td>TA</td>\n      <td>PConc</td>\n      <td>Gd</td>\n      <td>TA</td>\n      <td>No</td>\n      <td>GLQ</td>\n      <td>706</td>\n      <td>Unf</td>\n      <td>0</td>\n      <td>150</td>\n      <td>856</td>\n      <td>GasA</td>\n      <td>Ex</td>\n      <td>Y</td>\n      <td>SBrkr</td>\n      <td>856</td>\n      <td>854</td>\n      <td>0</td>\n      <td>1710</td>\n      <td>1</td>\n      <td>0</td>\n      <td>2</td>\n      <td>1</td>\n      <td>3</td>\n      <td>1</td>\n      <td>Gd</td>\n      <td>8</td>\n      <td>Typ</td>\n      <td>0</td>\n      <td>Attchd</td>\n      <td>2003.0</td>\n      <td>RFn</td>\n      <td>2</td>\n      <td>548</td>\n      <td>TA</td>\n      <td>TA</td>\n      <td>Y</td>\n      <td>0</td>\n      <td>61</td>\n      <td>0</td>\n      <td>0</td>\n      <td>0</td>\n      <td>0</td>\n      <td>0</td>\n      <td>2</td>\n      <td>2008</td>\n      <td>WD</td>\n      <td>Normal</td>\n      <td>208500</td>\n    </tr>\n    <tr>\n      <th>1</th>\n      <td>20</td>\n      <td>RL</td>\n      <td>9600</td>\n      <td>Pave</td>\n      <td>Reg</td>\n      <td>Lvl</td>\n      <td>AllPub</td>\n      <td>FR2</td>\n      <td>Gtl</td>\n      <td>Veenker</td>\n      <td>Feedr</td>\n      <td>Norm</td>\n      <td>1Fam</td>\n      <td>1Story</td>\n      <td>6</td>\n      <td>8</td>\n      <td>1976</td>\n      <td>1976</td>\n      <td>Gable</td>\n      <td>CompShg</td>\n      <td>MetalSd</td>\n      <td>MetalSd</td>\n      <td>None</td>\n      <td>0.0</td>\n      <td>TA</td>\n      <td>TA</td>\n      <td>CBlock</td>\n      <td>Gd</td>\n      <td>TA</td>\n      <td>Gd</td>\n      <td>ALQ</td>\n      <td>978</td>\n      <td>Unf</td>\n      <td>0</td>\n      <td>284</td>\n      <td>1262</td>\n      <td>GasA</td>\n      <td>Ex</td>\n      <td>Y</td>\n      <td>SBrkr</td>\n      <td>1262</td>\n      <td>0</td>\n      <td>0</td>\n      <td>1262</td>\n      <td>0</td>\n      <td>1</td>\n      <td>2</td>\n      <td>0</td>\n      <td>3</td>\n      <td>1</td>\n      <td>TA</td>\n      <td>6</td>\n      <td>Typ</td>\n      <td>1</td>\n      <td>Attchd</td>\n      <td>1976.0</td>\n      <td>RFn</td>\n      <td>2</td>\n      <td>460</td>\n      <td>TA</td>\n      <td>TA</td>\n      <td>Y</td>\n      <td>298</td>\n      <td>0</td>\n      <td>0</td>\n      <td>0</td>\n      <td>0</td>\n      <td>0</td>\n      <td>0</td>\n      <td>5</td>\n      <td>2007</td>\n      <td>WD</td>\n      <td>Normal</td>\n      <td>181500</td>\n    </tr>\n    <tr>\n      <th>2</th>\n      <td>60</td>\n      <td>RL</td>\n      <td>11250</td>\n      <td>Pave</td>\n      <td>IR1</td>\n      <td>Lvl</td>\n      <td>AllPub</td>\n      <td>Inside</td>\n      <td>Gtl</td>\n      <td>CollgCr</td>\n      <td>Norm</td>\n      <td>Norm</td>\n      <td>1Fam</td>\n      <td>2Story</td>\n      <td>7</td>\n      <td>5</td>\n      <td>2001</td>\n      <td>2002</td>\n      <td>Gable</td>\n      <td>CompShg</td>\n      <td>VinylSd</td>\n      <td>VinylSd</td>\n      <td>BrkFace</td>\n      <td>162.0</td>\n      <td>Gd</td>\n      <td>TA</td>\n      <td>PConc</td>\n      <td>Gd</td>\n      <td>TA</td>\n      <td>Mn</td>\n      <td>GLQ</td>\n      <td>486</td>\n      <td>Unf</td>\n      <td>0</td>\n      <td>434</td>\n      <td>920</td>\n      <td>GasA</td>\n      <td>Ex</td>\n      <td>Y</td>\n      <td>SBrkr</td>\n      <td>920</td>\n      <td>866</td>\n      <td>0</td>\n      <td>1786</td>\n      <td>1</td>\n      <td>0</td>\n      <td>2</td>\n      <td>1</td>\n      <td>3</td>\n      <td>1</td>\n      <td>Gd</td>\n      <td>6</td>\n      <td>Typ</td>\n      <td>1</td>\n      <td>Attchd</td>\n      <td>2001.0</td>\n      <td>RFn</td>\n      <td>2</td>\n      <td>608</td>\n      <td>TA</td>\n      <td>TA</td>\n      <td>Y</td>\n      <td>0</td>\n      <td>42</td>\n      <td>0</td>\n      <td>0</td>\n      <td>0</td>\n      <td>0</td>\n      <td>0</td>\n      <td>9</td>\n      <td>2008</td>\n      <td>WD</td>\n      <td>Normal</td>\n      <td>223500</td>\n    </tr>\n    <tr>\n      <th>3</th>\n      <td>70</td>\n      <td>RL</td>\n      <td>9550</td>\n      <td>Pave</td>\n      <td>IR1</td>\n      <td>Lvl</td>\n      <td>AllPub</td>\n      <td>Corner</td>\n      <td>Gtl</td>\n      <td>Crawfor</td>\n      <td>Norm</td>\n      <td>Norm</td>\n      <td>1Fam</td>\n      <td>2Story</td>\n      <td>7</td>\n      <td>5</td>\n      <td>1915</td>\n      <td>1970</td>\n      <td>Gable</td>\n      <td>CompShg</td>\n      <td>Wd Sdng</td>\n      <td>Wd Shng</td>\n      <td>None</td>\n      <td>0.0</td>\n      <td>TA</td>\n      <td>TA</td>\n      <td>BrkTil</td>\n      <td>TA</td>\n      <td>Gd</td>\n      <td>No</td>\n      <td>ALQ</td>\n      <td>216</td>\n      <td>Unf</td>\n      <td>0</td>\n      <td>540</td>\n      <td>756</td>\n      <td>GasA</td>\n      <td>Gd</td>\n      <td>Y</td>\n      <td>SBrkr</td>\n      <td>961</td>\n      <td>756</td>\n      <td>0</td>\n      <td>1717</td>\n      <td>1</td>\n      <td>0</td>\n      <td>1</td>\n      <td>0</td>\n      <td>3</td>\n      <td>1</td>\n      <td>Gd</td>\n      <td>7</td>\n      <td>Typ</td>\n      <td>1</td>\n      <td>Detchd</td>\n      <td>1998.0</td>\n      <td>Unf</td>\n      <td>3</td>\n      <td>642</td>\n      <td>TA</td>\n      <td>TA</td>\n      <td>Y</td>\n      <td>0</td>\n      <td>35</td>\n      <td>272</td>\n      <td>0</td>\n      <td>0</td>\n      <td>0</td>\n      <td>0</td>\n      <td>2</td>\n      <td>2006</td>\n      <td>WD</td>\n      <td>Abnorml</td>\n      <td>140000</td>\n    </tr>\n    <tr>\n      <th>4</th>\n      <td>60</td>\n      <td>RL</td>\n      <td>14260</td>\n      <td>Pave</td>\n      <td>IR1</td>\n      <td>Lvl</td>\n      <td>AllPub</td>\n      <td>FR2</td>\n      <td>Gtl</td>\n      <td>NoRidge</td>\n      <td>Norm</td>\n      <td>Norm</td>\n      <td>1Fam</td>\n      <td>2Story</td>\n      <td>8</td>\n      <td>5</td>\n      <td>2000</td>\n      <td>2000</td>\n      <td>Gable</td>\n      <td>CompShg</td>\n      <td>VinylSd</td>\n      <td>VinylSd</td>\n      <td>BrkFace</td>\n      <td>350.0</td>\n      <td>Gd</td>\n      <td>TA</td>\n      <td>PConc</td>\n      <td>Gd</td>\n      <td>TA</td>\n      <td>Av</td>\n      <td>GLQ</td>\n      <td>655</td>\n      <td>Unf</td>\n      <td>0</td>\n      <td>490</td>\n      <td>1145</td>\n      <td>GasA</td>\n      <td>Ex</td>\n      <td>Y</td>\n      <td>SBrkr</td>\n      <td>1145</td>\n      <td>1053</td>\n      <td>0</td>\n      <td>2198</td>\n      <td>1</td>\n      <td>0</td>\n      <td>2</td>\n      <td>1</td>\n      <td>4</td>\n      <td>1</td>\n      <td>Gd</td>\n      <td>9</td>\n      <td>Typ</td>\n      <td>1</td>\n      <td>Attchd</td>\n      <td>2000.0</td>\n      <td>RFn</td>\n      <td>3</td>\n      <td>836</td>\n      <td>TA</td>\n      <td>TA</td>\n      <td>Y</td>\n      <td>192</td>\n      <td>84</td>\n      <td>0</td>\n      <td>0</td>\n      <td>0</td>\n      <td>0</td>\n      <td>0</td>\n      <td>12</td>\n      <td>2008</td>\n      <td>WD</td>\n      <td>Normal</td>\n      <td>250000</td>\n    </tr>\n    <tr>\n      <th>...</th>\n      <td>...</td>\n      <td>...</td>\n      <td>...</td>\n      <td>...</td>\n      <td>...</td>\n      <td>...</td>\n      <td>...</td>\n      <td>...</td>\n      <td>...</td>\n      <td>...</td>\n      <td>...</td>\n      <td>...</td>\n      <td>...</td>\n      <td>...</td>\n      <td>...</td>\n      <td>...</td>\n      <td>...</td>\n      <td>...</td>\n      <td>...</td>\n      <td>...</td>\n      <td>...</td>\n      <td>...</td>\n      <td>...</td>\n      <td>...</td>\n      <td>...</td>\n      <td>...</td>\n      <td>...</td>\n      <td>...</td>\n      <td>...</td>\n      <td>...</td>\n      <td>...</td>\n      <td>...</td>\n      <td>...</td>\n      <td>...</td>\n      <td>...</td>\n      <td>...</td>\n      <td>...</td>\n      <td>...</td>\n      <td>...</td>\n      <td>...</td>\n      <td>...</td>\n      <td>...</td>\n      <td>...</td>\n      <td>...</td>\n      <td>...</td>\n      <td>...</td>\n      <td>...</td>\n      <td>...</td>\n      <td>...</td>\n      <td>...</td>\n      <td>...</td>\n      <td>...</td>\n      <td>...</td>\n      <td>...</td>\n      <td>...</td>\n      <td>...</td>\n      <td>...</td>\n      <td>...</td>\n      <td>...</td>\n      <td>...</td>\n      <td>...</td>\n      <td>...</td>\n      <td>...</td>\n      <td>...</td>\n      <td>...</td>\n      <td>...</td>\n      <td>...</td>\n      <td>...</td>\n      <td>...</td>\n      <td>...</td>\n      <td>...</td>\n      <td>...</td>\n      <td>...</td>\n      <td>...</td>\n    </tr>\n    <tr>\n      <th>1455</th>\n      <td>60</td>\n      <td>RL</td>\n      <td>7917</td>\n      <td>Pave</td>\n      <td>Reg</td>\n      <td>Lvl</td>\n      <td>AllPub</td>\n      <td>Inside</td>\n      <td>Gtl</td>\n      <td>Gilbert</td>\n      <td>Norm</td>\n      <td>Norm</td>\n      <td>1Fam</td>\n      <td>2Story</td>\n      <td>6</td>\n      <td>5</td>\n      <td>1999</td>\n      <td>2000</td>\n      <td>Gable</td>\n      <td>CompShg</td>\n      <td>VinylSd</td>\n      <td>VinylSd</td>\n      <td>None</td>\n      <td>0.0</td>\n      <td>TA</td>\n      <td>TA</td>\n      <td>PConc</td>\n      <td>Gd</td>\n      <td>TA</td>\n      <td>No</td>\n      <td>Unf</td>\n      <td>0</td>\n      <td>Unf</td>\n      <td>0</td>\n      <td>953</td>\n      <td>953</td>\n      <td>GasA</td>\n      <td>Ex</td>\n      <td>Y</td>\n      <td>SBrkr</td>\n      <td>953</td>\n      <td>694</td>\n      <td>0</td>\n      <td>1647</td>\n      <td>0</td>\n      <td>0</td>\n      <td>2</td>\n      <td>1</td>\n      <td>3</td>\n      <td>1</td>\n      <td>TA</td>\n      <td>7</td>\n      <td>Typ</td>\n      <td>1</td>\n      <td>Attchd</td>\n      <td>1999.0</td>\n      <td>RFn</td>\n      <td>2</td>\n      <td>460</td>\n      <td>TA</td>\n      <td>TA</td>\n      <td>Y</td>\n      <td>0</td>\n      <td>40</td>\n      <td>0</td>\n      <td>0</td>\n      <td>0</td>\n      <td>0</td>\n      <td>0</td>\n      <td>8</td>\n      <td>2007</td>\n      <td>WD</td>\n      <td>Normal</td>\n      <td>175000</td>\n    </tr>\n    <tr>\n      <th>1456</th>\n      <td>20</td>\n      <td>RL</td>\n      <td>13175</td>\n      <td>Pave</td>\n      <td>Reg</td>\n      <td>Lvl</td>\n      <td>AllPub</td>\n      <td>Inside</td>\n      <td>Gtl</td>\n      <td>NWAmes</td>\n      <td>Norm</td>\n      <td>Norm</td>\n      <td>1Fam</td>\n      <td>1Story</td>\n      <td>6</td>\n      <td>6</td>\n      <td>1978</td>\n      <td>1988</td>\n      <td>Gable</td>\n      <td>CompShg</td>\n      <td>Plywood</td>\n      <td>Plywood</td>\n      <td>Stone</td>\n      <td>119.0</td>\n      <td>TA</td>\n      <td>TA</td>\n      <td>CBlock</td>\n      <td>Gd</td>\n      <td>TA</td>\n      <td>No</td>\n      <td>ALQ</td>\n      <td>790</td>\n      <td>Rec</td>\n      <td>163</td>\n      <td>589</td>\n      <td>1542</td>\n      <td>GasA</td>\n      <td>TA</td>\n      <td>Y</td>\n      <td>SBrkr</td>\n      <td>2073</td>\n      <td>0</td>\n      <td>0</td>\n      <td>2073</td>\n      <td>1</td>\n      <td>0</td>\n      <td>2</td>\n      <td>0</td>\n      <td>3</td>\n      <td>1</td>\n      <td>TA</td>\n      <td>7</td>\n      <td>Min1</td>\n      <td>2</td>\n      <td>Attchd</td>\n      <td>1978.0</td>\n      <td>Unf</td>\n      <td>2</td>\n      <td>500</td>\n      <td>TA</td>\n      <td>TA</td>\n      <td>Y</td>\n      <td>349</td>\n      <td>0</td>\n      <td>0</td>\n      <td>0</td>\n      <td>0</td>\n      <td>0</td>\n      <td>0</td>\n      <td>2</td>\n      <td>2010</td>\n      <td>WD</td>\n      <td>Normal</td>\n      <td>210000</td>\n    </tr>\n    <tr>\n      <th>1457</th>\n      <td>70</td>\n      <td>RL</td>\n      <td>9042</td>\n      <td>Pave</td>\n      <td>Reg</td>\n      <td>Lvl</td>\n      <td>AllPub</td>\n      <td>Inside</td>\n      <td>Gtl</td>\n      <td>Crawfor</td>\n      <td>Norm</td>\n      <td>Norm</td>\n      <td>1Fam</td>\n      <td>2Story</td>\n      <td>7</td>\n      <td>9</td>\n      <td>1941</td>\n      <td>2006</td>\n      <td>Gable</td>\n      <td>CompShg</td>\n      <td>CemntBd</td>\n      <td>CmentBd</td>\n      <td>None</td>\n      <td>0.0</td>\n      <td>Ex</td>\n      <td>Gd</td>\n      <td>Stone</td>\n      <td>TA</td>\n      <td>Gd</td>\n      <td>No</td>\n      <td>GLQ</td>\n      <td>275</td>\n      <td>Unf</td>\n      <td>0</td>\n      <td>877</td>\n      <td>1152</td>\n      <td>GasA</td>\n      <td>Ex</td>\n      <td>Y</td>\n      <td>SBrkr</td>\n      <td>1188</td>\n      <td>1152</td>\n      <td>0</td>\n      <td>2340</td>\n      <td>0</td>\n      <td>0</td>\n      <td>2</td>\n      <td>0</td>\n      <td>4</td>\n      <td>1</td>\n      <td>Gd</td>\n      <td>9</td>\n      <td>Typ</td>\n      <td>2</td>\n      <td>Attchd</td>\n      <td>1941.0</td>\n      <td>RFn</td>\n      <td>1</td>\n      <td>252</td>\n      <td>TA</td>\n      <td>TA</td>\n      <td>Y</td>\n      <td>0</td>\n      <td>60</td>\n      <td>0</td>\n      <td>0</td>\n      <td>0</td>\n      <td>0</td>\n      <td>2500</td>\n      <td>5</td>\n      <td>2010</td>\n      <td>WD</td>\n      <td>Normal</td>\n      <td>266500</td>\n    </tr>\n    <tr>\n      <th>1458</th>\n      <td>20</td>\n      <td>RL</td>\n      <td>9717</td>\n      <td>Pave</td>\n      <td>Reg</td>\n      <td>Lvl</td>\n      <td>AllPub</td>\n      <td>Inside</td>\n      <td>Gtl</td>\n      <td>NAmes</td>\n      <td>Norm</td>\n      <td>Norm</td>\n      <td>1Fam</td>\n      <td>1Story</td>\n      <td>5</td>\n      <td>6</td>\n      <td>1950</td>\n      <td>1996</td>\n      <td>Hip</td>\n      <td>CompShg</td>\n      <td>MetalSd</td>\n      <td>MetalSd</td>\n      <td>None</td>\n      <td>0.0</td>\n      <td>TA</td>\n      <td>TA</td>\n      <td>CBlock</td>\n      <td>TA</td>\n      <td>TA</td>\n      <td>Mn</td>\n      <td>GLQ</td>\n      <td>49</td>\n      <td>Rec</td>\n      <td>1029</td>\n      <td>0</td>\n      <td>1078</td>\n      <td>GasA</td>\n      <td>Gd</td>\n      <td>Y</td>\n      <td>FuseA</td>\n      <td>1078</td>\n      <td>0</td>\n      <td>0</td>\n      <td>1078</td>\n      <td>1</td>\n      <td>0</td>\n      <td>1</td>\n      <td>0</td>\n      <td>2</td>\n      <td>1</td>\n      <td>Gd</td>\n      <td>5</td>\n      <td>Typ</td>\n      <td>0</td>\n      <td>Attchd</td>\n      <td>1950.0</td>\n      <td>Unf</td>\n      <td>1</td>\n      <td>240</td>\n      <td>TA</td>\n      <td>TA</td>\n      <td>Y</td>\n      <td>366</td>\n      <td>0</td>\n      <td>112</td>\n      <td>0</td>\n      <td>0</td>\n      <td>0</td>\n      <td>0</td>\n      <td>4</td>\n      <td>2010</td>\n      <td>WD</td>\n      <td>Normal</td>\n      <td>142125</td>\n    </tr>\n    <tr>\n      <th>1459</th>\n      <td>20</td>\n      <td>RL</td>\n      <td>9937</td>\n      <td>Pave</td>\n      <td>Reg</td>\n      <td>Lvl</td>\n      <td>AllPub</td>\n      <td>Inside</td>\n      <td>Gtl</td>\n      <td>Edwards</td>\n      <td>Norm</td>\n      <td>Norm</td>\n      <td>1Fam</td>\n      <td>1Story</td>\n      <td>5</td>\n      <td>6</td>\n      <td>1965</td>\n      <td>1965</td>\n      <td>Gable</td>\n      <td>CompShg</td>\n      <td>HdBoard</td>\n      <td>HdBoard</td>\n      <td>None</td>\n      <td>0.0</td>\n      <td>Gd</td>\n      <td>TA</td>\n      <td>CBlock</td>\n      <td>TA</td>\n      <td>TA</td>\n      <td>No</td>\n      <td>BLQ</td>\n      <td>830</td>\n      <td>LwQ</td>\n      <td>290</td>\n      <td>136</td>\n      <td>1256</td>\n      <td>GasA</td>\n      <td>Gd</td>\n      <td>Y</td>\n      <td>SBrkr</td>\n      <td>1256</td>\n      <td>0</td>\n      <td>0</td>\n      <td>1256</td>\n      <td>1</td>\n      <td>0</td>\n      <td>1</td>\n      <td>1</td>\n      <td>3</td>\n      <td>1</td>\n      <td>TA</td>\n      <td>6</td>\n      <td>Typ</td>\n      <td>0</td>\n      <td>Attchd</td>\n      <td>1965.0</td>\n      <td>Fin</td>\n      <td>1</td>\n      <td>276</td>\n      <td>TA</td>\n      <td>TA</td>\n      <td>Y</td>\n      <td>736</td>\n      <td>68</td>\n      <td>0</td>\n      <td>0</td>\n      <td>0</td>\n      <td>0</td>\n      <td>0</td>\n      <td>6</td>\n      <td>2008</td>\n      <td>WD</td>\n      <td>Normal</td>\n      <td>147500</td>\n    </tr>\n  </tbody>\n</table>\n<p>1460 rows × 74 columns</p>\n</div>"
     },
     "metadata": {},
     "execution_count": 103
    }
   ],
   "source": [
    "clmn = [x for x in train_df.columns if x not in col_int_drop+col_obj_drop]\n",
    "\n",
    "training =train_df[clmn[1:]]\n",
    "testing =test_df[clmn[:-1]]\n",
    "training"
   ]
  },
  {
   "source": [
    "## Label Encoding"
   ],
   "cell_type": "markdown",
   "metadata": {}
  },
  {
   "cell_type": "code",
   "execution_count": 104,
   "metadata": {},
   "outputs": [
    {
     "output_type": "stream",
     "name": "stderr",
     "text": [
      "<ipython-input-104-bacb1e9c4e2b>:6: SettingWithCopyWarning: \nA value is trying to be set on a copy of a slice from a DataFrame.\nTry using .loc[row_indexer,col_indexer] = value instead\n\nSee the caveats in the documentation: https://pandas.pydata.org/pandas-docs/stable/user_guide/indexing.html#returning-a-view-versus-a-copy\n  training[col] =label.transform(training[col])\n<ipython-input-104-bacb1e9c4e2b>:7: SettingWithCopyWarning: \nA value is trying to be set on a copy of a slice from a DataFrame.\nTry using .loc[row_indexer,col_indexer] = value instead\n\nSee the caveats in the documentation: https://pandas.pydata.org/pandas-docs/stable/user_guide/indexing.html#returning-a-view-versus-a-copy\n  testing[col] =label.transform(testing[col])\n"
     ]
    }
   ],
   "source": [
    "label =LabelEncoder()\n",
    "\n",
    "for col in clm_obj :\n",
    "    if col not in col_obj_drop :\n",
    "        label.fit(training[col].append(test_df[col]))\n",
    "        training[col] =label.transform(training[col])\n",
    "        testing[col] =label.transform(testing[col])"
   ]
  },
  {
   "cell_type": "code",
   "execution_count": 105,
   "metadata": {},
   "outputs": [
    {
     "output_type": "execute_result",
     "data": {
      "text/plain": [
       "0       208500\n",
       "1       181500\n",
       "2       223500\n",
       "3       140000\n",
       "4       250000\n",
       "         ...  \n",
       "1455    175000\n",
       "1456    210000\n",
       "1457    266500\n",
       "1458    142125\n",
       "1459    147500\n",
       "Name: SalePrice, Length: 1460, dtype: int64"
      ]
     },
     "metadata": {},
     "execution_count": 105
    }
   ],
   "source": [
    "clm_train =training.columns[:-1]\n",
    "training.SalePrice"
   ]
  },
  {
   "source": [
    "#### Random Forest(86.688 %)"
   ],
   "cell_type": "markdown",
   "metadata": {}
  },
  {
   "cell_type": "code",
   "execution_count": 106,
   "metadata": {
    "tags": []
   },
   "outputs": [
    {
     "output_type": "execute_result",
     "data": {
      "text/plain": [
       "GridSearchCV(estimator=RandomForestRegressor(n_jobs=-1, random_state=0),\n",
       "             param_grid={'max_depth': [None, 5, 15],\n",
       "                         'max_features': ['auto', 'sqrt', 'log2'],\n",
       "                         'n_estimators': [100, 200, 300, 400, 500]},\n",
       "             scoring='neg_root_mean_squared_error')"
      ]
     },
     "metadata": {},
     "execution_count": 106
    }
   ],
   "source": [
    "grid ={ \"n_estimators\" :[100,200,300,400,500] ,\n",
    "        \"max_features\" :[\"auto\", \"sqrt\", \"log2\"],\n",
    "        \"max_depth\" :[None ,5,15]}\n",
    "clf =GridSearchCV( RandomForestRegressor(n_jobs=-1,random_state=0) ,param_grid=grid ,scoring=\"neg_root_mean_squared_error\")\n",
    "clf.fit(training[clm_train] ,training.SalePrice)"
   ]
  },
  {
   "cell_type": "code",
   "execution_count": 107,
   "metadata": {},
   "outputs": [
    {
     "output_type": "stream",
     "name": "stdout",
     "text": [
      "Accuracy with Random Forest :  -2867584.019\n"
     ]
    }
   ],
   "source": [
    "print(\"Accuracy with Random Forest : \" ,round(clf.best_score_*100,3) )"
   ]
  },
  {
   "source": [
    "#### SVR"
   ],
   "cell_type": "markdown",
   "metadata": {}
  },
  {
   "cell_type": "code",
   "execution_count": 108,
   "metadata": {},
   "outputs": [
    {
     "output_type": "execute_result",
     "data": {
      "text/plain": [
       "'grid_svr ={\"kernel\" : [\"linear\", \"poly\", \"rbf\"] ,\\n           \"gamma\" : [\"scale\" ,\"auto\"] ,\\n           \"C\" :[0.01,0.1,1,5]\\n           }\\nclf_svr =GridSearchCV( SVR() ,param_grid=grid_svr ,scoring=\"r2\")\\nclf_svr.fit(training[clm_train] ,training.SalePrice)'"
      ]
     },
     "metadata": {},
     "execution_count": 108
    }
   ],
   "source": [
    "'''grid_svr ={\"kernel\" : [\"linear\", \"poly\", \"rbf\"] ,\n",
    "           \"gamma\" : [\"scale\" ,\"auto\"] ,\n",
    "           \"C\" :[0.01,0.1,1,5]\n",
    "           }\n",
    "clf_svr =GridSearchCV( SVR() ,param_grid=grid_svr ,scoring=\"r2\")\n",
    "clf_svr.fit(training[clm_train] ,training.SalePrice)'''"
   ]
  },
  {
   "cell_type": "code",
   "execution_count": 109,
   "metadata": {},
   "outputs": [
    {
     "output_type": "execute_result",
     "data": {
      "text/plain": [
       "'print(\"Accuracy with Support Vector Regressor : \" ,round(clf_svr.best_score_*100,3) )'"
      ]
     },
     "metadata": {},
     "execution_count": 109
    }
   ],
   "source": [
    "'''print(\"Accuracy with Support Vector Regressor : \" ,round(clf_svr.best_score_*100,3) )'''"
   ]
  },
  {
   "source": [
    "#### XGBoost(89.487 %)"
   ],
   "cell_type": "markdown",
   "metadata": {}
  },
  {
   "cell_type": "code",
   "execution_count": 110,
   "metadata": {},
   "outputs": [
    {
     "output_type": "execute_result",
     "data": {
      "text/plain": [
       "GridSearchCV(estimator=GradientBoostingRegressor(random_state=0),\n",
       "             param_grid={'learning_rate': [0.001, 0.01, 0.1, 1],\n",
       "                         'n_estimators': [100, 200, 300, 400, 500]},\n",
       "             scoring='neg_root_mean_squared_error')"
      ]
     },
     "metadata": {},
     "execution_count": 110
    }
   ],
   "source": [
    "grid_xgb ={\"learning_rate\" :[0.001,0.01,0.1,1] ,\n",
    "           \"n_estimators\" :[100,200,300,400,500]}\n",
    "clf_xgb =GridSearchCV( GradientBoostingRegressor(random_state=0) ,param_grid=grid_xgb ,scoring=\"neg_root_mean_squared_error\")\n",
    "clf_xgb.fit(training[clm_train] ,training.SalePrice)"
   ]
  },
  {
   "cell_type": "code",
   "execution_count": 117,
   "metadata": {},
   "outputs": [
    {
     "output_type": "stream",
     "name": "stdout",
     "text": [
      "Accuracy with XGBoost :  -24792.292071083786\n"
     ]
    }
   ],
   "source": [
    "print(\"Accuracy with XGBoost : \" ,clf_xgb.best_score_ )"
   ]
  },
  {
   "source": [
    "## Predicting values "
   ],
   "cell_type": "markdown",
   "metadata": {}
  },
  {
   "cell_type": "code",
   "execution_count": 112,
   "metadata": {},
   "outputs": [
    {
     "output_type": "execute_result",
     "data": {
      "text/plain": [
       "      MSSubClass  MSZoning  LotArea  Street  LotShape  LandContour  Utilities  \\\n",
       "0             20         2    11622       1         3            3          0   \n",
       "1             20         3    14267       1         0            3          0   \n",
       "2             60         3    13830       1         0            3          0   \n",
       "3             60         3     9978       1         0            3          0   \n",
       "4            120         3     5005       1         0            1          0   \n",
       "...          ...       ...      ...     ...       ...          ...        ...   \n",
       "1454         160         4     1936       1         3            3          0   \n",
       "1455         160         4     1894       1         3            3          0   \n",
       "1456          20         3    20000       1         3            3          0   \n",
       "1457          85         3    10441       1         3            3          0   \n",
       "1458          60         3     9627       1         3            3          0   \n",
       "\n",
       "      LotConfig  LandSlope  Neighborhood  Condition1  Condition2  BldgType  \\\n",
       "0             4          0            12           1           2         0   \n",
       "1             0          0            12           2           2         0   \n",
       "2             4          0             8           2           2         0   \n",
       "3             4          0             8           2           2         0   \n",
       "4             4          0            22           2           2         4   \n",
       "...         ...        ...           ...         ...         ...       ...   \n",
       "1454          4          0            10           2           2         3   \n",
       "1455          4          0            10           2           2         4   \n",
       "1456          4          0            11           2           2         0   \n",
       "1457          4          0            11           2           2         0   \n",
       "1458          4          1            11           2           2         0   \n",
       "\n",
       "      HouseStyle  OverallQual  OverallCond  YearBuilt  YearRemodAdd  \\\n",
       "0              2            5            6       1961          1961   \n",
       "1              2            6            6       1958          1958   \n",
       "2              5            5            5       1997          1998   \n",
       "3              5            6            6       1998          1998   \n",
       "4              2            8            5       1992          1992   \n",
       "...          ...          ...          ...        ...           ...   \n",
       "1454           5            4            7       1970          1970   \n",
       "1455           5            4            5       1970          1970   \n",
       "1456           2            5            7       1960          1996   \n",
       "1457           6            5            5       1992          1992   \n",
       "1458           5            7            5       1993          1994   \n",
       "\n",
       "      RoofStyle  RoofMatl  Exterior1st  Exterior2nd  MasVnrType  MasVnrArea  \\\n",
       "0             1         1           12           13           2         0.0   \n",
       "1             3         1           13           14           1       108.0   \n",
       "2             1         1           12           13           2         0.0   \n",
       "3             1         1           12           13           1        20.0   \n",
       "4             1         1            6            6           2         0.0   \n",
       "...         ...       ...          ...          ...         ...         ...   \n",
       "1454          1         1            5            5           2         0.0   \n",
       "1455          1         1            5            5           2         0.0   \n",
       "1456          1         1           12           13           2         0.0   \n",
       "1457          1         1            6           15           2         0.0   \n",
       "1458          1         1            6            6           1        94.0   \n",
       "\n",
       "      ExterQual  ExterCond  Foundation  BsmtQual  BsmtCond  BsmtExposure  \\\n",
       "0             3          4           1         3         3             3   \n",
       "1             3          4           1         3         3             3   \n",
       "2             3          4           2         2         3             3   \n",
       "3             3          4           2         3         3             3   \n",
       "4             2          4           2         2         3             3   \n",
       "...         ...        ...         ...       ...       ...           ...   \n",
       "1454          3          4           1         3         3             3   \n",
       "1455          3          4           1         3         3             3   \n",
       "1456          3          4           1         3         3             3   \n",
       "1457          3          4           2         2         3             0   \n",
       "1458          3          4           2         2         3             0   \n",
       "\n",
       "      BsmtFinType1  BsmtFinSF1  BsmtFinType2  BsmtFinSF2  BsmtUnfSF  \\\n",
       "0                4       468.0             3       144.0      270.0   \n",
       "1                0       923.0             5         0.0      406.0   \n",
       "2                2       791.0             5         0.0      137.0   \n",
       "3                2       602.0             5         0.0      324.0   \n",
       "4                0       263.0             5         0.0     1017.0   \n",
       "...            ...         ...           ...         ...        ...   \n",
       "1454             5         0.0             5         0.0      546.0   \n",
       "1455             4       252.0             5         0.0      294.0   \n",
       "1456             0      1224.0             5         0.0        0.0   \n",
       "1457             2       337.0             5         0.0      575.0   \n",
       "1458             3       758.0             5         0.0      238.0   \n",
       "\n",
       "      TotalBsmtSF  Heating  HeatingQC  CentralAir  Electrical  1stFlrSF  \\\n",
       "0           882.0        1          4           1           4       896   \n",
       "1          1329.0        1          4           1           4      1329   \n",
       "2           928.0        1          2           1           4       928   \n",
       "3           926.0        1          0           1           4       926   \n",
       "4          1280.0        1          0           1           4      1280   \n",
       "...           ...      ...        ...         ...         ...       ...   \n",
       "1454        546.0        1          2           1           4       546   \n",
       "1455        546.0        1          4           1           4       546   \n",
       "1456       1224.0        1          0           1           4      1224   \n",
       "1457        912.0        1          4           1           4       970   \n",
       "1458        996.0        1          0           1           4       996   \n",
       "\n",
       "      2ndFlrSF  LowQualFinSF  GrLivArea  BsmtFullBath  BsmtHalfBath  FullBath  \\\n",
       "0            0             0        896           0.0           0.0         1   \n",
       "1            0             0       1329           0.0           0.0         1   \n",
       "2          701             0       1629           0.0           0.0         2   \n",
       "3          678             0       1604           0.0           0.0         2   \n",
       "4            0             0       1280           0.0           0.0         2   \n",
       "...        ...           ...        ...           ...           ...       ...   \n",
       "1454       546             0       1092           0.0           0.0         1   \n",
       "1455       546             0       1092           0.0           0.0         1   \n",
       "1456         0             0       1224           1.0           0.0         1   \n",
       "1457         0             0        970           0.0           1.0         1   \n",
       "1458      1004             0       2000           0.0           0.0         2   \n",
       "\n",
       "      HalfBath  BedroomAbvGr  KitchenAbvGr  KitchenQual  TotRmsAbvGrd  \\\n",
       "0            0             2             1            3             5   \n",
       "1            1             3             1            2             6   \n",
       "2            1             3             1            3             6   \n",
       "3            1             3             1            2             7   \n",
       "4            0             2             1            2             5   \n",
       "...        ...           ...           ...          ...           ...   \n",
       "1454         1             3             1            3             5   \n",
       "1455         1             3             1            3             6   \n",
       "1456         0             4             1            3             7   \n",
       "1457         0             3             1            3             6   \n",
       "1458         1             3             1            3             9   \n",
       "\n",
       "      Functional  Fireplaces  GarageType  GarageYrBlt  GarageFinish  \\\n",
       "0              6           0           1       1961.0             2   \n",
       "1              6           0           1       1958.0             2   \n",
       "2              6           1           1       1997.0             0   \n",
       "3              6           1           1       1998.0             0   \n",
       "4              6           0           1       1992.0             1   \n",
       "...          ...         ...         ...          ...           ...   \n",
       "1454           6           0           6          NaN             3   \n",
       "1455           6           0           4       1970.0             2   \n",
       "1456           6           1           5       1960.0             2   \n",
       "1457           6           0           6          NaN             3   \n",
       "1458           6           1           1       1993.0             0   \n",
       "\n",
       "      GarageCars  GarageArea  GarageQual  GarageCond  PavedDrive  WoodDeckSF  \\\n",
       "0            1.0       730.0           4           4           2         140   \n",
       "1            1.0       312.0           4           4           2         393   \n",
       "2            2.0       482.0           4           4           2         212   \n",
       "3            2.0       470.0           4           4           2         360   \n",
       "4            2.0       506.0           4           4           2           0   \n",
       "...          ...         ...         ...         ...         ...         ...   \n",
       "1454         0.0         0.0           5           5           2           0   \n",
       "1455         1.0       286.0           4           4           2           0   \n",
       "1456         2.0       576.0           4           4           2         474   \n",
       "1457         0.0         0.0           5           5           2          80   \n",
       "1458         3.0       650.0           4           4           2         190   \n",
       "\n",
       "      OpenPorchSF  EnclosedPorch  3SsnPorch  ScreenPorch  PoolArea  MiscVal  \\\n",
       "0               0              0          0          120         0        0   \n",
       "1              36              0          0            0         0    12500   \n",
       "2              34              0          0            0         0        0   \n",
       "3              36              0          0            0         0        0   \n",
       "4              82              0          0          144         0        0   \n",
       "...           ...            ...        ...          ...       ...      ...   \n",
       "1454            0              0          0            0         0        0   \n",
       "1455           24              0          0            0         0        0   \n",
       "1456            0              0          0            0         0        0   \n",
       "1457           32              0          0            0         0      700   \n",
       "1458           48              0          0            0         0        0   \n",
       "\n",
       "      MoSold  YrSold  SaleType  SaleCondition  \n",
       "0          6    2010         8              4  \n",
       "1          6    2010         8              4  \n",
       "2          3    2010         8              4  \n",
       "3          6    2010         8              4  \n",
       "4          1    2010         8              4  \n",
       "...      ...     ...       ...            ...  \n",
       "1454       6    2006         8              4  \n",
       "1455       4    2006         8              0  \n",
       "1456       9    2006         8              0  \n",
       "1457       7    2006         8              4  \n",
       "1458      11    2006         8              4  \n",
       "\n",
       "[1459 rows x 73 columns]"
      ],
      "text/html": "<div>\n<style scoped>\n    .dataframe tbody tr th:only-of-type {\n        vertical-align: middle;\n    }\n\n    .dataframe tbody tr th {\n        vertical-align: top;\n    }\n\n    .dataframe thead th {\n        text-align: right;\n    }\n</style>\n<table border=\"1\" class=\"dataframe\">\n  <thead>\n    <tr style=\"text-align: right;\">\n      <th></th>\n      <th>MSSubClass</th>\n      <th>MSZoning</th>\n      <th>LotArea</th>\n      <th>Street</th>\n      <th>LotShape</th>\n      <th>LandContour</th>\n      <th>Utilities</th>\n      <th>LotConfig</th>\n      <th>LandSlope</th>\n      <th>Neighborhood</th>\n      <th>Condition1</th>\n      <th>Condition2</th>\n      <th>BldgType</th>\n      <th>HouseStyle</th>\n      <th>OverallQual</th>\n      <th>OverallCond</th>\n      <th>YearBuilt</th>\n      <th>YearRemodAdd</th>\n      <th>RoofStyle</th>\n      <th>RoofMatl</th>\n      <th>Exterior1st</th>\n      <th>Exterior2nd</th>\n      <th>MasVnrType</th>\n      <th>MasVnrArea</th>\n      <th>ExterQual</th>\n      <th>ExterCond</th>\n      <th>Foundation</th>\n      <th>BsmtQual</th>\n      <th>BsmtCond</th>\n      <th>BsmtExposure</th>\n      <th>BsmtFinType1</th>\n      <th>BsmtFinSF1</th>\n      <th>BsmtFinType2</th>\n      <th>BsmtFinSF2</th>\n      <th>BsmtUnfSF</th>\n      <th>TotalBsmtSF</th>\n      <th>Heating</th>\n      <th>HeatingQC</th>\n      <th>CentralAir</th>\n      <th>Electrical</th>\n      <th>1stFlrSF</th>\n      <th>2ndFlrSF</th>\n      <th>LowQualFinSF</th>\n      <th>GrLivArea</th>\n      <th>BsmtFullBath</th>\n      <th>BsmtHalfBath</th>\n      <th>FullBath</th>\n      <th>HalfBath</th>\n      <th>BedroomAbvGr</th>\n      <th>KitchenAbvGr</th>\n      <th>KitchenQual</th>\n      <th>TotRmsAbvGrd</th>\n      <th>Functional</th>\n      <th>Fireplaces</th>\n      <th>GarageType</th>\n      <th>GarageYrBlt</th>\n      <th>GarageFinish</th>\n      <th>GarageCars</th>\n      <th>GarageArea</th>\n      <th>GarageQual</th>\n      <th>GarageCond</th>\n      <th>PavedDrive</th>\n      <th>WoodDeckSF</th>\n      <th>OpenPorchSF</th>\n      <th>EnclosedPorch</th>\n      <th>3SsnPorch</th>\n      <th>ScreenPorch</th>\n      <th>PoolArea</th>\n      <th>MiscVal</th>\n      <th>MoSold</th>\n      <th>YrSold</th>\n      <th>SaleType</th>\n      <th>SaleCondition</th>\n    </tr>\n  </thead>\n  <tbody>\n    <tr>\n      <th>0</th>\n      <td>20</td>\n      <td>2</td>\n      <td>11622</td>\n      <td>1</td>\n      <td>3</td>\n      <td>3</td>\n      <td>0</td>\n      <td>4</td>\n      <td>0</td>\n      <td>12</td>\n      <td>1</td>\n      <td>2</td>\n      <td>0</td>\n      <td>2</td>\n      <td>5</td>\n      <td>6</td>\n      <td>1961</td>\n      <td>1961</td>\n      <td>1</td>\n      <td>1</td>\n      <td>12</td>\n      <td>13</td>\n      <td>2</td>\n      <td>0.0</td>\n      <td>3</td>\n      <td>4</td>\n      <td>1</td>\n      <td>3</td>\n      <td>3</td>\n      <td>3</td>\n      <td>4</td>\n      <td>468.0</td>\n      <td>3</td>\n      <td>144.0</td>\n      <td>270.0</td>\n      <td>882.0</td>\n      <td>1</td>\n      <td>4</td>\n      <td>1</td>\n      <td>4</td>\n      <td>896</td>\n      <td>0</td>\n      <td>0</td>\n      <td>896</td>\n      <td>0.0</td>\n      <td>0.0</td>\n      <td>1</td>\n      <td>0</td>\n      <td>2</td>\n      <td>1</td>\n      <td>3</td>\n      <td>5</td>\n      <td>6</td>\n      <td>0</td>\n      <td>1</td>\n      <td>1961.0</td>\n      <td>2</td>\n      <td>1.0</td>\n      <td>730.0</td>\n      <td>4</td>\n      <td>4</td>\n      <td>2</td>\n      <td>140</td>\n      <td>0</td>\n      <td>0</td>\n      <td>0</td>\n      <td>120</td>\n      <td>0</td>\n      <td>0</td>\n      <td>6</td>\n      <td>2010</td>\n      <td>8</td>\n      <td>4</td>\n    </tr>\n    <tr>\n      <th>1</th>\n      <td>20</td>\n      <td>3</td>\n      <td>14267</td>\n      <td>1</td>\n      <td>0</td>\n      <td>3</td>\n      <td>0</td>\n      <td>0</td>\n      <td>0</td>\n      <td>12</td>\n      <td>2</td>\n      <td>2</td>\n      <td>0</td>\n      <td>2</td>\n      <td>6</td>\n      <td>6</td>\n      <td>1958</td>\n      <td>1958</td>\n      <td>3</td>\n      <td>1</td>\n      <td>13</td>\n      <td>14</td>\n      <td>1</td>\n      <td>108.0</td>\n      <td>3</td>\n      <td>4</td>\n      <td>1</td>\n      <td>3</td>\n      <td>3</td>\n      <td>3</td>\n      <td>0</td>\n      <td>923.0</td>\n      <td>5</td>\n      <td>0.0</td>\n      <td>406.0</td>\n      <td>1329.0</td>\n      <td>1</td>\n      <td>4</td>\n      <td>1</td>\n      <td>4</td>\n      <td>1329</td>\n      <td>0</td>\n      <td>0</td>\n      <td>1329</td>\n      <td>0.0</td>\n      <td>0.0</td>\n      <td>1</td>\n      <td>1</td>\n      <td>3</td>\n      <td>1</td>\n      <td>2</td>\n      <td>6</td>\n      <td>6</td>\n      <td>0</td>\n      <td>1</td>\n      <td>1958.0</td>\n      <td>2</td>\n      <td>1.0</td>\n      <td>312.0</td>\n      <td>4</td>\n      <td>4</td>\n      <td>2</td>\n      <td>393</td>\n      <td>36</td>\n      <td>0</td>\n      <td>0</td>\n      <td>0</td>\n      <td>0</td>\n      <td>12500</td>\n      <td>6</td>\n      <td>2010</td>\n      <td>8</td>\n      <td>4</td>\n    </tr>\n    <tr>\n      <th>2</th>\n      <td>60</td>\n      <td>3</td>\n      <td>13830</td>\n      <td>1</td>\n      <td>0</td>\n      <td>3</td>\n      <td>0</td>\n      <td>4</td>\n      <td>0</td>\n      <td>8</td>\n      <td>2</td>\n      <td>2</td>\n      <td>0</td>\n      <td>5</td>\n      <td>5</td>\n      <td>5</td>\n      <td>1997</td>\n      <td>1998</td>\n      <td>1</td>\n      <td>1</td>\n      <td>12</td>\n      <td>13</td>\n      <td>2</td>\n      <td>0.0</td>\n      <td>3</td>\n      <td>4</td>\n      <td>2</td>\n      <td>2</td>\n      <td>3</td>\n      <td>3</td>\n      <td>2</td>\n      <td>791.0</td>\n      <td>5</td>\n      <td>0.0</td>\n      <td>137.0</td>\n      <td>928.0</td>\n      <td>1</td>\n      <td>2</td>\n      <td>1</td>\n      <td>4</td>\n      <td>928</td>\n      <td>701</td>\n      <td>0</td>\n      <td>1629</td>\n      <td>0.0</td>\n      <td>0.0</td>\n      <td>2</td>\n      <td>1</td>\n      <td>3</td>\n      <td>1</td>\n      <td>3</td>\n      <td>6</td>\n      <td>6</td>\n      <td>1</td>\n      <td>1</td>\n      <td>1997.0</td>\n      <td>0</td>\n      <td>2.0</td>\n      <td>482.0</td>\n      <td>4</td>\n      <td>4</td>\n      <td>2</td>\n      <td>212</td>\n      <td>34</td>\n      <td>0</td>\n      <td>0</td>\n      <td>0</td>\n      <td>0</td>\n      <td>0</td>\n      <td>3</td>\n      <td>2010</td>\n      <td>8</td>\n      <td>4</td>\n    </tr>\n    <tr>\n      <th>3</th>\n      <td>60</td>\n      <td>3</td>\n      <td>9978</td>\n      <td>1</td>\n      <td>0</td>\n      <td>3</td>\n      <td>0</td>\n      <td>4</td>\n      <td>0</td>\n      <td>8</td>\n      <td>2</td>\n      <td>2</td>\n      <td>0</td>\n      <td>5</td>\n      <td>6</td>\n      <td>6</td>\n      <td>1998</td>\n      <td>1998</td>\n      <td>1</td>\n      <td>1</td>\n      <td>12</td>\n      <td>13</td>\n      <td>1</td>\n      <td>20.0</td>\n      <td>3</td>\n      <td>4</td>\n      <td>2</td>\n      <td>3</td>\n      <td>3</td>\n      <td>3</td>\n      <td>2</td>\n      <td>602.0</td>\n      <td>5</td>\n      <td>0.0</td>\n      <td>324.0</td>\n      <td>926.0</td>\n      <td>1</td>\n      <td>0</td>\n      <td>1</td>\n      <td>4</td>\n      <td>926</td>\n      <td>678</td>\n      <td>0</td>\n      <td>1604</td>\n      <td>0.0</td>\n      <td>0.0</td>\n      <td>2</td>\n      <td>1</td>\n      <td>3</td>\n      <td>1</td>\n      <td>2</td>\n      <td>7</td>\n      <td>6</td>\n      <td>1</td>\n      <td>1</td>\n      <td>1998.0</td>\n      <td>0</td>\n      <td>2.0</td>\n      <td>470.0</td>\n      <td>4</td>\n      <td>4</td>\n      <td>2</td>\n      <td>360</td>\n      <td>36</td>\n      <td>0</td>\n      <td>0</td>\n      <td>0</td>\n      <td>0</td>\n      <td>0</td>\n      <td>6</td>\n      <td>2010</td>\n      <td>8</td>\n      <td>4</td>\n    </tr>\n    <tr>\n      <th>4</th>\n      <td>120</td>\n      <td>3</td>\n      <td>5005</td>\n      <td>1</td>\n      <td>0</td>\n      <td>1</td>\n      <td>0</td>\n      <td>4</td>\n      <td>0</td>\n      <td>22</td>\n      <td>2</td>\n      <td>2</td>\n      <td>4</td>\n      <td>2</td>\n      <td>8</td>\n      <td>5</td>\n      <td>1992</td>\n      <td>1992</td>\n      <td>1</td>\n      <td>1</td>\n      <td>6</td>\n      <td>6</td>\n      <td>2</td>\n      <td>0.0</td>\n      <td>2</td>\n      <td>4</td>\n      <td>2</td>\n      <td>2</td>\n      <td>3</td>\n      <td>3</td>\n      <td>0</td>\n      <td>263.0</td>\n      <td>5</td>\n      <td>0.0</td>\n      <td>1017.0</td>\n      <td>1280.0</td>\n      <td>1</td>\n      <td>0</td>\n      <td>1</td>\n      <td>4</td>\n      <td>1280</td>\n      <td>0</td>\n      <td>0</td>\n      <td>1280</td>\n      <td>0.0</td>\n      <td>0.0</td>\n      <td>2</td>\n      <td>0</td>\n      <td>2</td>\n      <td>1</td>\n      <td>2</td>\n      <td>5</td>\n      <td>6</td>\n      <td>0</td>\n      <td>1</td>\n      <td>1992.0</td>\n      <td>1</td>\n      <td>2.0</td>\n      <td>506.0</td>\n      <td>4</td>\n      <td>4</td>\n      <td>2</td>\n      <td>0</td>\n      <td>82</td>\n      <td>0</td>\n      <td>0</td>\n      <td>144</td>\n      <td>0</td>\n      <td>0</td>\n      <td>1</td>\n      <td>2010</td>\n      <td>8</td>\n      <td>4</td>\n    </tr>\n    <tr>\n      <th>...</th>\n      <td>...</td>\n      <td>...</td>\n      <td>...</td>\n      <td>...</td>\n      <td>...</td>\n      <td>...</td>\n      <td>...</td>\n      <td>...</td>\n      <td>...</td>\n      <td>...</td>\n      <td>...</td>\n      <td>...</td>\n      <td>...</td>\n      <td>...</td>\n      <td>...</td>\n      <td>...</td>\n      <td>...</td>\n      <td>...</td>\n      <td>...</td>\n      <td>...</td>\n      <td>...</td>\n      <td>...</td>\n      <td>...</td>\n      <td>...</td>\n      <td>...</td>\n      <td>...</td>\n      <td>...</td>\n      <td>...</td>\n      <td>...</td>\n      <td>...</td>\n      <td>...</td>\n      <td>...</td>\n      <td>...</td>\n      <td>...</td>\n      <td>...</td>\n      <td>...</td>\n      <td>...</td>\n      <td>...</td>\n      <td>...</td>\n      <td>...</td>\n      <td>...</td>\n      <td>...</td>\n      <td>...</td>\n      <td>...</td>\n      <td>...</td>\n      <td>...</td>\n      <td>...</td>\n      <td>...</td>\n      <td>...</td>\n      <td>...</td>\n      <td>...</td>\n      <td>...</td>\n      <td>...</td>\n      <td>...</td>\n      <td>...</td>\n      <td>...</td>\n      <td>...</td>\n      <td>...</td>\n      <td>...</td>\n      <td>...</td>\n      <td>...</td>\n      <td>...</td>\n      <td>...</td>\n      <td>...</td>\n      <td>...</td>\n      <td>...</td>\n      <td>...</td>\n      <td>...</td>\n      <td>...</td>\n      <td>...</td>\n      <td>...</td>\n      <td>...</td>\n      <td>...</td>\n    </tr>\n    <tr>\n      <th>1454</th>\n      <td>160</td>\n      <td>4</td>\n      <td>1936</td>\n      <td>1</td>\n      <td>3</td>\n      <td>3</td>\n      <td>0</td>\n      <td>4</td>\n      <td>0</td>\n      <td>10</td>\n      <td>2</td>\n      <td>2</td>\n      <td>3</td>\n      <td>5</td>\n      <td>4</td>\n      <td>7</td>\n      <td>1970</td>\n      <td>1970</td>\n      <td>1</td>\n      <td>1</td>\n      <td>5</td>\n      <td>5</td>\n      <td>2</td>\n      <td>0.0</td>\n      <td>3</td>\n      <td>4</td>\n      <td>1</td>\n      <td>3</td>\n      <td>3</td>\n      <td>3</td>\n      <td>5</td>\n      <td>0.0</td>\n      <td>5</td>\n      <td>0.0</td>\n      <td>546.0</td>\n      <td>546.0</td>\n      <td>1</td>\n      <td>2</td>\n      <td>1</td>\n      <td>4</td>\n      <td>546</td>\n      <td>546</td>\n      <td>0</td>\n      <td>1092</td>\n      <td>0.0</td>\n      <td>0.0</td>\n      <td>1</td>\n      <td>1</td>\n      <td>3</td>\n      <td>1</td>\n      <td>3</td>\n      <td>5</td>\n      <td>6</td>\n      <td>0</td>\n      <td>6</td>\n      <td>NaN</td>\n      <td>3</td>\n      <td>0.0</td>\n      <td>0.0</td>\n      <td>5</td>\n      <td>5</td>\n      <td>2</td>\n      <td>0</td>\n      <td>0</td>\n      <td>0</td>\n      <td>0</td>\n      <td>0</td>\n      <td>0</td>\n      <td>0</td>\n      <td>6</td>\n      <td>2006</td>\n      <td>8</td>\n      <td>4</td>\n    </tr>\n    <tr>\n      <th>1455</th>\n      <td>160</td>\n      <td>4</td>\n      <td>1894</td>\n      <td>1</td>\n      <td>3</td>\n      <td>3</td>\n      <td>0</td>\n      <td>4</td>\n      <td>0</td>\n      <td>10</td>\n      <td>2</td>\n      <td>2</td>\n      <td>4</td>\n      <td>5</td>\n      <td>4</td>\n      <td>5</td>\n      <td>1970</td>\n      <td>1970</td>\n      <td>1</td>\n      <td>1</td>\n      <td>5</td>\n      <td>5</td>\n      <td>2</td>\n      <td>0.0</td>\n      <td>3</td>\n      <td>4</td>\n      <td>1</td>\n      <td>3</td>\n      <td>3</td>\n      <td>3</td>\n      <td>4</td>\n      <td>252.0</td>\n      <td>5</td>\n      <td>0.0</td>\n      <td>294.0</td>\n      <td>546.0</td>\n      <td>1</td>\n      <td>4</td>\n      <td>1</td>\n      <td>4</td>\n      <td>546</td>\n      <td>546</td>\n      <td>0</td>\n      <td>1092</td>\n      <td>0.0</td>\n      <td>0.0</td>\n      <td>1</td>\n      <td>1</td>\n      <td>3</td>\n      <td>1</td>\n      <td>3</td>\n      <td>6</td>\n      <td>6</td>\n      <td>0</td>\n      <td>4</td>\n      <td>1970.0</td>\n      <td>2</td>\n      <td>1.0</td>\n      <td>286.0</td>\n      <td>4</td>\n      <td>4</td>\n      <td>2</td>\n      <td>0</td>\n      <td>24</td>\n      <td>0</td>\n      <td>0</td>\n      <td>0</td>\n      <td>0</td>\n      <td>0</td>\n      <td>4</td>\n      <td>2006</td>\n      <td>8</td>\n      <td>0</td>\n    </tr>\n    <tr>\n      <th>1456</th>\n      <td>20</td>\n      <td>3</td>\n      <td>20000</td>\n      <td>1</td>\n      <td>3</td>\n      <td>3</td>\n      <td>0</td>\n      <td>4</td>\n      <td>0</td>\n      <td>11</td>\n      <td>2</td>\n      <td>2</td>\n      <td>0</td>\n      <td>2</td>\n      <td>5</td>\n      <td>7</td>\n      <td>1960</td>\n      <td>1996</td>\n      <td>1</td>\n      <td>1</td>\n      <td>12</td>\n      <td>13</td>\n      <td>2</td>\n      <td>0.0</td>\n      <td>3</td>\n      <td>4</td>\n      <td>1</td>\n      <td>3</td>\n      <td>3</td>\n      <td>3</td>\n      <td>0</td>\n      <td>1224.0</td>\n      <td>5</td>\n      <td>0.0</td>\n      <td>0.0</td>\n      <td>1224.0</td>\n      <td>1</td>\n      <td>0</td>\n      <td>1</td>\n      <td>4</td>\n      <td>1224</td>\n      <td>0</td>\n      <td>0</td>\n      <td>1224</td>\n      <td>1.0</td>\n      <td>0.0</td>\n      <td>1</td>\n      <td>0</td>\n      <td>4</td>\n      <td>1</td>\n      <td>3</td>\n      <td>7</td>\n      <td>6</td>\n      <td>1</td>\n      <td>5</td>\n      <td>1960.0</td>\n      <td>2</td>\n      <td>2.0</td>\n      <td>576.0</td>\n      <td>4</td>\n      <td>4</td>\n      <td>2</td>\n      <td>474</td>\n      <td>0</td>\n      <td>0</td>\n      <td>0</td>\n      <td>0</td>\n      <td>0</td>\n      <td>0</td>\n      <td>9</td>\n      <td>2006</td>\n      <td>8</td>\n      <td>0</td>\n    </tr>\n    <tr>\n      <th>1457</th>\n      <td>85</td>\n      <td>3</td>\n      <td>10441</td>\n      <td>1</td>\n      <td>3</td>\n      <td>3</td>\n      <td>0</td>\n      <td>4</td>\n      <td>0</td>\n      <td>11</td>\n      <td>2</td>\n      <td>2</td>\n      <td>0</td>\n      <td>6</td>\n      <td>5</td>\n      <td>5</td>\n      <td>1992</td>\n      <td>1992</td>\n      <td>1</td>\n      <td>1</td>\n      <td>6</td>\n      <td>15</td>\n      <td>2</td>\n      <td>0.0</td>\n      <td>3</td>\n      <td>4</td>\n      <td>2</td>\n      <td>2</td>\n      <td>3</td>\n      <td>0</td>\n      <td>2</td>\n      <td>337.0</td>\n      <td>5</td>\n      <td>0.0</td>\n      <td>575.0</td>\n      <td>912.0</td>\n      <td>1</td>\n      <td>4</td>\n      <td>1</td>\n      <td>4</td>\n      <td>970</td>\n      <td>0</td>\n      <td>0</td>\n      <td>970</td>\n      <td>0.0</td>\n      <td>1.0</td>\n      <td>1</td>\n      <td>0</td>\n      <td>3</td>\n      <td>1</td>\n      <td>3</td>\n      <td>6</td>\n      <td>6</td>\n      <td>0</td>\n      <td>6</td>\n      <td>NaN</td>\n      <td>3</td>\n      <td>0.0</td>\n      <td>0.0</td>\n      <td>5</td>\n      <td>5</td>\n      <td>2</td>\n      <td>80</td>\n      <td>32</td>\n      <td>0</td>\n      <td>0</td>\n      <td>0</td>\n      <td>0</td>\n      <td>700</td>\n      <td>7</td>\n      <td>2006</td>\n      <td>8</td>\n      <td>4</td>\n    </tr>\n    <tr>\n      <th>1458</th>\n      <td>60</td>\n      <td>3</td>\n      <td>9627</td>\n      <td>1</td>\n      <td>3</td>\n      <td>3</td>\n      <td>0</td>\n      <td>4</td>\n      <td>1</td>\n      <td>11</td>\n      <td>2</td>\n      <td>2</td>\n      <td>0</td>\n      <td>5</td>\n      <td>7</td>\n      <td>5</td>\n      <td>1993</td>\n      <td>1994</td>\n      <td>1</td>\n      <td>1</td>\n      <td>6</td>\n      <td>6</td>\n      <td>1</td>\n      <td>94.0</td>\n      <td>3</td>\n      <td>4</td>\n      <td>2</td>\n      <td>2</td>\n      <td>3</td>\n      <td>0</td>\n      <td>3</td>\n      <td>758.0</td>\n      <td>5</td>\n      <td>0.0</td>\n      <td>238.0</td>\n      <td>996.0</td>\n      <td>1</td>\n      <td>0</td>\n      <td>1</td>\n      <td>4</td>\n      <td>996</td>\n      <td>1004</td>\n      <td>0</td>\n      <td>2000</td>\n      <td>0.0</td>\n      <td>0.0</td>\n      <td>2</td>\n      <td>1</td>\n      <td>3</td>\n      <td>1</td>\n      <td>3</td>\n      <td>9</td>\n      <td>6</td>\n      <td>1</td>\n      <td>1</td>\n      <td>1993.0</td>\n      <td>0</td>\n      <td>3.0</td>\n      <td>650.0</td>\n      <td>4</td>\n      <td>4</td>\n      <td>2</td>\n      <td>190</td>\n      <td>48</td>\n      <td>0</td>\n      <td>0</td>\n      <td>0</td>\n      <td>0</td>\n      <td>0</td>\n      <td>11</td>\n      <td>2006</td>\n      <td>8</td>\n      <td>4</td>\n    </tr>\n  </tbody>\n</table>\n<p>1459 rows × 73 columns</p>\n</div>"
     },
     "metadata": {},
     "execution_count": 112
    }
   ],
   "source": [
    "testing =testing [ [x for x in testing.columns if x != \"Id\"]]\n",
    "testing"
   ]
  },
  {
   "cell_type": "code",
   "execution_count": 113,
   "metadata": {},
   "outputs": [
    {
     "output_type": "stream",
     "name": "stdout",
     "text": [
      "<class 'pandas.core.frame.DataFrame'>\nRangeIndex: 1459 entries, 0 to 1458\nData columns (total 73 columns):\n #   Column         Non-Null Count  Dtype  \n---  ------         --------------  -----  \n 0   MSSubClass     1459 non-null   int64  \n 1   MSZoning       1459 non-null   int32  \n 2   LotArea        1459 non-null   int64  \n 3   Street         1459 non-null   int32  \n 4   LotShape       1459 non-null   int32  \n 5   LandContour    1459 non-null   int32  \n 6   Utilities      1459 non-null   int32  \n 7   LotConfig      1459 non-null   int32  \n 8   LandSlope      1459 non-null   int32  \n 9   Neighborhood   1459 non-null   int32  \n 10  Condition1     1459 non-null   int32  \n 11  Condition2     1459 non-null   int32  \n 12  BldgType       1459 non-null   int32  \n 13  HouseStyle     1459 non-null   int32  \n 14  OverallQual    1459 non-null   int64  \n 15  OverallCond    1459 non-null   int64  \n 16  YearBuilt      1459 non-null   int64  \n 17  YearRemodAdd   1459 non-null   int64  \n 18  RoofStyle      1459 non-null   int32  \n 19  RoofMatl       1459 non-null   int32  \n 20  Exterior1st    1459 non-null   int32  \n 21  Exterior2nd    1459 non-null   int32  \n 22  MasVnrType     1459 non-null   int32  \n 23  MasVnrArea     1444 non-null   float64\n 24  ExterQual      1459 non-null   int32  \n 25  ExterCond      1459 non-null   int32  \n 26  Foundation     1459 non-null   int32  \n 27  BsmtQual       1459 non-null   int32  \n 28  BsmtCond       1459 non-null   int32  \n 29  BsmtExposure   1459 non-null   int32  \n 30  BsmtFinType1   1459 non-null   int32  \n 31  BsmtFinSF1     1458 non-null   float64\n 32  BsmtFinType2   1459 non-null   int32  \n 33  BsmtFinSF2     1458 non-null   float64\n 34  BsmtUnfSF      1458 non-null   float64\n 35  TotalBsmtSF    1458 non-null   float64\n 36  Heating        1459 non-null   int32  \n 37  HeatingQC      1459 non-null   int32  \n 38  CentralAir     1459 non-null   int32  \n 39  Electrical     1459 non-null   int32  \n 40  1stFlrSF       1459 non-null   int64  \n 41  2ndFlrSF       1459 non-null   int64  \n 42  LowQualFinSF   1459 non-null   int64  \n 43  GrLivArea      1459 non-null   int64  \n 44  BsmtFullBath   1457 non-null   float64\n 45  BsmtHalfBath   1457 non-null   float64\n 46  FullBath       1459 non-null   int64  \n 47  HalfBath       1459 non-null   int64  \n 48  BedroomAbvGr   1459 non-null   int64  \n 49  KitchenAbvGr   1459 non-null   int64  \n 50  KitchenQual    1459 non-null   int32  \n 51  TotRmsAbvGrd   1459 non-null   int64  \n 52  Functional     1459 non-null   int32  \n 53  Fireplaces     1459 non-null   int64  \n 54  GarageType     1459 non-null   int32  \n 55  GarageYrBlt    1381 non-null   float64\n 56  GarageFinish   1459 non-null   int32  \n 57  GarageCars     1458 non-null   float64\n 58  GarageArea     1458 non-null   float64\n 59  GarageQual     1459 non-null   int32  \n 60  GarageCond     1459 non-null   int32  \n 61  PavedDrive     1459 non-null   int32  \n 62  WoodDeckSF     1459 non-null   int64  \n 63  OpenPorchSF    1459 non-null   int64  \n 64  EnclosedPorch  1459 non-null   int64  \n 65  3SsnPorch      1459 non-null   int64  \n 66  ScreenPorch    1459 non-null   int64  \n 67  PoolArea       1459 non-null   int64  \n 68  MiscVal        1459 non-null   int64  \n 69  MoSold         1459 non-null   int64  \n 70  YrSold         1459 non-null   int64  \n 71  SaleType       1459 non-null   int32  \n 72  SaleCondition  1459 non-null   int32  \ndtypes: float64(10), int32(38), int64(25)\nmemory usage: 615.6 KB\n"
     ]
    }
   ],
   "source": [
    "testing.info()"
   ]
  },
  {
   "cell_type": "code",
   "execution_count": 114,
   "metadata": {},
   "outputs": [],
   "source": [
    "test_int=[]\n",
    "test_obj=[]\n",
    "for clm in testing.columns :\n",
    "    if(train_df[clm].dtype == \"int64\" or train_df[clm].dtype == \"float64\") :\n",
    "        test_int.append(clm)\n",
    "        \n",
    "    else :\n",
    "        test_obj.append(clm)\n",
    "\n",
    "for col in test_int :\n",
    "    if testing[col].isna().sum() >0 :\n",
    "        testing[col] =testing[col].fillna(training[col].median())\n",
    "\n",
    "for col in test_obj :\n",
    "    if testing[col].isna().sum() >0 :\n",
    "        testing[col] =testing[col].fillna(training[col].mode())"
   ]
  },
  {
   "cell_type": "code",
   "execution_count": 115,
   "metadata": {},
   "outputs": [
    {
     "output_type": "stream",
     "name": "stdout",
     "text": [
      "<class 'pandas.core.frame.DataFrame'>\nRangeIndex: 1459 entries, 0 to 1458\nData columns (total 73 columns):\n #   Column         Non-Null Count  Dtype  \n---  ------         --------------  -----  \n 0   MSSubClass     1459 non-null   int64  \n 1   MSZoning       1459 non-null   int32  \n 2   LotArea        1459 non-null   int64  \n 3   Street         1459 non-null   int32  \n 4   LotShape       1459 non-null   int32  \n 5   LandContour    1459 non-null   int32  \n 6   Utilities      1459 non-null   int32  \n 7   LotConfig      1459 non-null   int32  \n 8   LandSlope      1459 non-null   int32  \n 9   Neighborhood   1459 non-null   int32  \n 10  Condition1     1459 non-null   int32  \n 11  Condition2     1459 non-null   int32  \n 12  BldgType       1459 non-null   int32  \n 13  HouseStyle     1459 non-null   int32  \n 14  OverallQual    1459 non-null   int64  \n 15  OverallCond    1459 non-null   int64  \n 16  YearBuilt      1459 non-null   int64  \n 17  YearRemodAdd   1459 non-null   int64  \n 18  RoofStyle      1459 non-null   int32  \n 19  RoofMatl       1459 non-null   int32  \n 20  Exterior1st    1459 non-null   int32  \n 21  Exterior2nd    1459 non-null   int32  \n 22  MasVnrType     1459 non-null   int32  \n 23  MasVnrArea     1459 non-null   float64\n 24  ExterQual      1459 non-null   int32  \n 25  ExterCond      1459 non-null   int32  \n 26  Foundation     1459 non-null   int32  \n 27  BsmtQual       1459 non-null   int32  \n 28  BsmtCond       1459 non-null   int32  \n 29  BsmtExposure   1459 non-null   int32  \n 30  BsmtFinType1   1459 non-null   int32  \n 31  BsmtFinSF1     1459 non-null   float64\n 32  BsmtFinType2   1459 non-null   int32  \n 33  BsmtFinSF2     1459 non-null   float64\n 34  BsmtUnfSF      1459 non-null   float64\n 35  TotalBsmtSF    1459 non-null   float64\n 36  Heating        1459 non-null   int32  \n 37  HeatingQC      1459 non-null   int32  \n 38  CentralAir     1459 non-null   int32  \n 39  Electrical     1459 non-null   int32  \n 40  1stFlrSF       1459 non-null   int64  \n 41  2ndFlrSF       1459 non-null   int64  \n 42  LowQualFinSF   1459 non-null   int64  \n 43  GrLivArea      1459 non-null   int64  \n 44  BsmtFullBath   1459 non-null   float64\n 45  BsmtHalfBath   1459 non-null   float64\n 46  FullBath       1459 non-null   int64  \n 47  HalfBath       1459 non-null   int64  \n 48  BedroomAbvGr   1459 non-null   int64  \n 49  KitchenAbvGr   1459 non-null   int64  \n 50  KitchenQual    1459 non-null   int32  \n 51  TotRmsAbvGrd   1459 non-null   int64  \n 52  Functional     1459 non-null   int32  \n 53  Fireplaces     1459 non-null   int64  \n 54  GarageType     1459 non-null   int32  \n 55  GarageYrBlt    1459 non-null   float64\n 56  GarageFinish   1459 non-null   int32  \n 57  GarageCars     1459 non-null   float64\n 58  GarageArea     1459 non-null   float64\n 59  GarageQual     1459 non-null   int32  \n 60  GarageCond     1459 non-null   int32  \n 61  PavedDrive     1459 non-null   int32  \n 62  WoodDeckSF     1459 non-null   int64  \n 63  OpenPorchSF    1459 non-null   int64  \n 64  EnclosedPorch  1459 non-null   int64  \n 65  3SsnPorch      1459 non-null   int64  \n 66  ScreenPorch    1459 non-null   int64  \n 67  PoolArea       1459 non-null   int64  \n 68  MiscVal        1459 non-null   int64  \n 69  MoSold         1459 non-null   int64  \n 70  YrSold         1459 non-null   int64  \n 71  SaleType       1459 non-null   int32  \n 72  SaleCondition  1459 non-null   int32  \ndtypes: float64(10), int32(38), int64(25)\nmemory usage: 615.6 KB\n"
     ]
    }
   ],
   "source": [
    "testing.info()"
   ]
  },
  {
   "cell_type": "code",
   "execution_count": 116,
   "metadata": {},
   "outputs": [],
   "source": [
    "\n",
    "predicted =clf_xgb.best_estimator_.predict(testing)\n",
    "data ={\"Id\" : test_df.Id ,\n",
    "       \"SalePrice\" : predicted} \n",
    "ans = pd.DataFrame(data)\n",
    "ans.set_index(\"Id\",inplace=True)\n",
    "ans.to_csv(\"Result.csv\")"
   ]
  }
 ]
}